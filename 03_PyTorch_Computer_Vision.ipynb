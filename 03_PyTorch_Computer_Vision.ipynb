{
  "nbformat": 4,
  "nbformat_minor": 0,
  "metadata": {
    "colab": {
      "provenance": [],
      "gpuType": "T4",
      "authorship_tag": "ABX9TyPMm4XIBBOaD8D5gzjG1f5z",
      "include_colab_link": true
    },
    "kernelspec": {
      "name": "python3",
      "display_name": "Python 3"
    },
    "language_info": {
      "name": "python"
    },
    "accelerator": "GPU",
    "widgets": {
      "application/vnd.jupyter.widget-state+json": {
        "00198204a4704deea81f21affc469eda": {
          "model_module": "@jupyter-widgets/controls",
          "model_name": "HBoxModel",
          "model_module_version": "1.5.0",
          "state": {
            "_dom_classes": [],
            "_model_module": "@jupyter-widgets/controls",
            "_model_module_version": "1.5.0",
            "_model_name": "HBoxModel",
            "_view_count": null,
            "_view_module": "@jupyter-widgets/controls",
            "_view_module_version": "1.5.0",
            "_view_name": "HBoxView",
            "box_style": "",
            "children": [
              "IPY_MODEL_837a507dfd334fb7a8b5cddba85f3257",
              "IPY_MODEL_5627fc99c961454bb5b6dd67f4ff094f",
              "IPY_MODEL_9c89611530fb4c90bb00a8c50d5d75b0"
            ],
            "layout": "IPY_MODEL_2c0dd79e2d1a4f03b94d2c9b88997ddf"
          }
        },
        "837a507dfd334fb7a8b5cddba85f3257": {
          "model_module": "@jupyter-widgets/controls",
          "model_name": "HTMLModel",
          "model_module_version": "1.5.0",
          "state": {
            "_dom_classes": [],
            "_model_module": "@jupyter-widgets/controls",
            "_model_module_version": "1.5.0",
            "_model_name": "HTMLModel",
            "_view_count": null,
            "_view_module": "@jupyter-widgets/controls",
            "_view_module_version": "1.5.0",
            "_view_name": "HTMLView",
            "description": "",
            "description_tooltip": null,
            "layout": "IPY_MODEL_c365b606233c49c5ae13bd70d7c77d69",
            "placeholder": "​",
            "style": "IPY_MODEL_0fbf239b80794433b74facb7894f05db",
            "value": "100%"
          }
        },
        "5627fc99c961454bb5b6dd67f4ff094f": {
          "model_module": "@jupyter-widgets/controls",
          "model_name": "FloatProgressModel",
          "model_module_version": "1.5.0",
          "state": {
            "_dom_classes": [],
            "_model_module": "@jupyter-widgets/controls",
            "_model_module_version": "1.5.0",
            "_model_name": "FloatProgressModel",
            "_view_count": null,
            "_view_module": "@jupyter-widgets/controls",
            "_view_module_version": "1.5.0",
            "_view_name": "ProgressView",
            "bar_style": "success",
            "description": "",
            "description_tooltip": null,
            "layout": "IPY_MODEL_6a7b092d179b441c97c600ca96cfea61",
            "max": 3,
            "min": 0,
            "orientation": "horizontal",
            "style": "IPY_MODEL_efa5a9519be4486795031c836c5436e3",
            "value": 3
          }
        },
        "9c89611530fb4c90bb00a8c50d5d75b0": {
          "model_module": "@jupyter-widgets/controls",
          "model_name": "HTMLModel",
          "model_module_version": "1.5.0",
          "state": {
            "_dom_classes": [],
            "_model_module": "@jupyter-widgets/controls",
            "_model_module_version": "1.5.0",
            "_model_name": "HTMLModel",
            "_view_count": null,
            "_view_module": "@jupyter-widgets/controls",
            "_view_module_version": "1.5.0",
            "_view_name": "HTMLView",
            "description": "",
            "description_tooltip": null,
            "layout": "IPY_MODEL_9d3fc9793f6f48a7a1c5fceb76fdeed9",
            "placeholder": "​",
            "style": "IPY_MODEL_fc0e6ce243de407ebe46d637bbeb0451",
            "value": " 3/3 [00:39&lt;00:00, 12.82s/it]"
          }
        },
        "2c0dd79e2d1a4f03b94d2c9b88997ddf": {
          "model_module": "@jupyter-widgets/base",
          "model_name": "LayoutModel",
          "model_module_version": "1.2.0",
          "state": {
            "_model_module": "@jupyter-widgets/base",
            "_model_module_version": "1.2.0",
            "_model_name": "LayoutModel",
            "_view_count": null,
            "_view_module": "@jupyter-widgets/base",
            "_view_module_version": "1.2.0",
            "_view_name": "LayoutView",
            "align_content": null,
            "align_items": null,
            "align_self": null,
            "border": null,
            "bottom": null,
            "display": null,
            "flex": null,
            "flex_flow": null,
            "grid_area": null,
            "grid_auto_columns": null,
            "grid_auto_flow": null,
            "grid_auto_rows": null,
            "grid_column": null,
            "grid_gap": null,
            "grid_row": null,
            "grid_template_areas": null,
            "grid_template_columns": null,
            "grid_template_rows": null,
            "height": null,
            "justify_content": null,
            "justify_items": null,
            "left": null,
            "margin": null,
            "max_height": null,
            "max_width": null,
            "min_height": null,
            "min_width": null,
            "object_fit": null,
            "object_position": null,
            "order": null,
            "overflow": null,
            "overflow_x": null,
            "overflow_y": null,
            "padding": null,
            "right": null,
            "top": null,
            "visibility": null,
            "width": null
          }
        },
        "c365b606233c49c5ae13bd70d7c77d69": {
          "model_module": "@jupyter-widgets/base",
          "model_name": "LayoutModel",
          "model_module_version": "1.2.0",
          "state": {
            "_model_module": "@jupyter-widgets/base",
            "_model_module_version": "1.2.0",
            "_model_name": "LayoutModel",
            "_view_count": null,
            "_view_module": "@jupyter-widgets/base",
            "_view_module_version": "1.2.0",
            "_view_name": "LayoutView",
            "align_content": null,
            "align_items": null,
            "align_self": null,
            "border": null,
            "bottom": null,
            "display": null,
            "flex": null,
            "flex_flow": null,
            "grid_area": null,
            "grid_auto_columns": null,
            "grid_auto_flow": null,
            "grid_auto_rows": null,
            "grid_column": null,
            "grid_gap": null,
            "grid_row": null,
            "grid_template_areas": null,
            "grid_template_columns": null,
            "grid_template_rows": null,
            "height": null,
            "justify_content": null,
            "justify_items": null,
            "left": null,
            "margin": null,
            "max_height": null,
            "max_width": null,
            "min_height": null,
            "min_width": null,
            "object_fit": null,
            "object_position": null,
            "order": null,
            "overflow": null,
            "overflow_x": null,
            "overflow_y": null,
            "padding": null,
            "right": null,
            "top": null,
            "visibility": null,
            "width": null
          }
        },
        "0fbf239b80794433b74facb7894f05db": {
          "model_module": "@jupyter-widgets/controls",
          "model_name": "DescriptionStyleModel",
          "model_module_version": "1.5.0",
          "state": {
            "_model_module": "@jupyter-widgets/controls",
            "_model_module_version": "1.5.0",
            "_model_name": "DescriptionStyleModel",
            "_view_count": null,
            "_view_module": "@jupyter-widgets/base",
            "_view_module_version": "1.2.0",
            "_view_name": "StyleView",
            "description_width": ""
          }
        },
        "6a7b092d179b441c97c600ca96cfea61": {
          "model_module": "@jupyter-widgets/base",
          "model_name": "LayoutModel",
          "model_module_version": "1.2.0",
          "state": {
            "_model_module": "@jupyter-widgets/base",
            "_model_module_version": "1.2.0",
            "_model_name": "LayoutModel",
            "_view_count": null,
            "_view_module": "@jupyter-widgets/base",
            "_view_module_version": "1.2.0",
            "_view_name": "LayoutView",
            "align_content": null,
            "align_items": null,
            "align_self": null,
            "border": null,
            "bottom": null,
            "display": null,
            "flex": null,
            "flex_flow": null,
            "grid_area": null,
            "grid_auto_columns": null,
            "grid_auto_flow": null,
            "grid_auto_rows": null,
            "grid_column": null,
            "grid_gap": null,
            "grid_row": null,
            "grid_template_areas": null,
            "grid_template_columns": null,
            "grid_template_rows": null,
            "height": null,
            "justify_content": null,
            "justify_items": null,
            "left": null,
            "margin": null,
            "max_height": null,
            "max_width": null,
            "min_height": null,
            "min_width": null,
            "object_fit": null,
            "object_position": null,
            "order": null,
            "overflow": null,
            "overflow_x": null,
            "overflow_y": null,
            "padding": null,
            "right": null,
            "top": null,
            "visibility": null,
            "width": null
          }
        },
        "efa5a9519be4486795031c836c5436e3": {
          "model_module": "@jupyter-widgets/controls",
          "model_name": "ProgressStyleModel",
          "model_module_version": "1.5.0",
          "state": {
            "_model_module": "@jupyter-widgets/controls",
            "_model_module_version": "1.5.0",
            "_model_name": "ProgressStyleModel",
            "_view_count": null,
            "_view_module": "@jupyter-widgets/base",
            "_view_module_version": "1.2.0",
            "_view_name": "StyleView",
            "bar_color": null,
            "description_width": ""
          }
        },
        "9d3fc9793f6f48a7a1c5fceb76fdeed9": {
          "model_module": "@jupyter-widgets/base",
          "model_name": "LayoutModel",
          "model_module_version": "1.2.0",
          "state": {
            "_model_module": "@jupyter-widgets/base",
            "_model_module_version": "1.2.0",
            "_model_name": "LayoutModel",
            "_view_count": null,
            "_view_module": "@jupyter-widgets/base",
            "_view_module_version": "1.2.0",
            "_view_name": "LayoutView",
            "align_content": null,
            "align_items": null,
            "align_self": null,
            "border": null,
            "bottom": null,
            "display": null,
            "flex": null,
            "flex_flow": null,
            "grid_area": null,
            "grid_auto_columns": null,
            "grid_auto_flow": null,
            "grid_auto_rows": null,
            "grid_column": null,
            "grid_gap": null,
            "grid_row": null,
            "grid_template_areas": null,
            "grid_template_columns": null,
            "grid_template_rows": null,
            "height": null,
            "justify_content": null,
            "justify_items": null,
            "left": null,
            "margin": null,
            "max_height": null,
            "max_width": null,
            "min_height": null,
            "min_width": null,
            "object_fit": null,
            "object_position": null,
            "order": null,
            "overflow": null,
            "overflow_x": null,
            "overflow_y": null,
            "padding": null,
            "right": null,
            "top": null,
            "visibility": null,
            "width": null
          }
        },
        "fc0e6ce243de407ebe46d637bbeb0451": {
          "model_module": "@jupyter-widgets/controls",
          "model_name": "DescriptionStyleModel",
          "model_module_version": "1.5.0",
          "state": {
            "_model_module": "@jupyter-widgets/controls",
            "_model_module_version": "1.5.0",
            "_model_name": "DescriptionStyleModel",
            "_view_count": null,
            "_view_module": "@jupyter-widgets/base",
            "_view_module_version": "1.2.0",
            "_view_name": "StyleView",
            "description_width": ""
          }
        },
        "d13c141e6a4446c287e75712a30c8aa2": {
          "model_module": "@jupyter-widgets/controls",
          "model_name": "HBoxModel",
          "model_module_version": "1.5.0",
          "state": {
            "_dom_classes": [],
            "_model_module": "@jupyter-widgets/controls",
            "_model_module_version": "1.5.0",
            "_model_name": "HBoxModel",
            "_view_count": null,
            "_view_module": "@jupyter-widgets/controls",
            "_view_module_version": "1.5.0",
            "_view_name": "HBoxView",
            "box_style": "",
            "children": [
              "IPY_MODEL_90f54ccfe3a44fc097f5f7ea99b67d8c",
              "IPY_MODEL_3c09daa694f847fd895f5294240425fe",
              "IPY_MODEL_d9068618357f40eb8f076673d85b612a"
            ],
            "layout": "IPY_MODEL_968e94e23a574bd3920b03488f9e26b2"
          }
        },
        "90f54ccfe3a44fc097f5f7ea99b67d8c": {
          "model_module": "@jupyter-widgets/controls",
          "model_name": "HTMLModel",
          "model_module_version": "1.5.0",
          "state": {
            "_dom_classes": [],
            "_model_module": "@jupyter-widgets/controls",
            "_model_module_version": "1.5.0",
            "_model_name": "HTMLModel",
            "_view_count": null,
            "_view_module": "@jupyter-widgets/controls",
            "_view_module_version": "1.5.0",
            "_view_name": "HTMLView",
            "description": "",
            "description_tooltip": null,
            "layout": "IPY_MODEL_c467ff9bfd654d3bb090c4d78bcb3279",
            "placeholder": "​",
            "style": "IPY_MODEL_7b8cf044d2f5424a9b8df9bebe4da471",
            "value": "100%"
          }
        },
        "3c09daa694f847fd895f5294240425fe": {
          "model_module": "@jupyter-widgets/controls",
          "model_name": "FloatProgressModel",
          "model_module_version": "1.5.0",
          "state": {
            "_dom_classes": [],
            "_model_module": "@jupyter-widgets/controls",
            "_model_module_version": "1.5.0",
            "_model_name": "FloatProgressModel",
            "_view_count": null,
            "_view_module": "@jupyter-widgets/controls",
            "_view_module_version": "1.5.0",
            "_view_name": "ProgressView",
            "bar_style": "success",
            "description": "",
            "description_tooltip": null,
            "layout": "IPY_MODEL_d4d155a1915d4fb68f7df9df2ce08a79",
            "max": 313,
            "min": 0,
            "orientation": "horizontal",
            "style": "IPY_MODEL_af368214696845949bdfe3f759b3cc8a",
            "value": 313
          }
        },
        "d9068618357f40eb8f076673d85b612a": {
          "model_module": "@jupyter-widgets/controls",
          "model_name": "HTMLModel",
          "model_module_version": "1.5.0",
          "state": {
            "_dom_classes": [],
            "_model_module": "@jupyter-widgets/controls",
            "_model_module_version": "1.5.0",
            "_model_name": "HTMLModel",
            "_view_count": null,
            "_view_module": "@jupyter-widgets/controls",
            "_view_module_version": "1.5.0",
            "_view_name": "HTMLView",
            "description": "",
            "description_tooltip": null,
            "layout": "IPY_MODEL_eb653ae92d1b4ec8a5920f7f4b21f5b3",
            "placeholder": "​",
            "style": "IPY_MODEL_819166b3aadb4a1aba915deed97d8820",
            "value": " 313/313 [00:05&lt;00:00, 91.91it/s]"
          }
        },
        "968e94e23a574bd3920b03488f9e26b2": {
          "model_module": "@jupyter-widgets/base",
          "model_name": "LayoutModel",
          "model_module_version": "1.2.0",
          "state": {
            "_model_module": "@jupyter-widgets/base",
            "_model_module_version": "1.2.0",
            "_model_name": "LayoutModel",
            "_view_count": null,
            "_view_module": "@jupyter-widgets/base",
            "_view_module_version": "1.2.0",
            "_view_name": "LayoutView",
            "align_content": null,
            "align_items": null,
            "align_self": null,
            "border": null,
            "bottom": null,
            "display": null,
            "flex": null,
            "flex_flow": null,
            "grid_area": null,
            "grid_auto_columns": null,
            "grid_auto_flow": null,
            "grid_auto_rows": null,
            "grid_column": null,
            "grid_gap": null,
            "grid_row": null,
            "grid_template_areas": null,
            "grid_template_columns": null,
            "grid_template_rows": null,
            "height": null,
            "justify_content": null,
            "justify_items": null,
            "left": null,
            "margin": null,
            "max_height": null,
            "max_width": null,
            "min_height": null,
            "min_width": null,
            "object_fit": null,
            "object_position": null,
            "order": null,
            "overflow": null,
            "overflow_x": null,
            "overflow_y": null,
            "padding": null,
            "right": null,
            "top": null,
            "visibility": null,
            "width": null
          }
        },
        "c467ff9bfd654d3bb090c4d78bcb3279": {
          "model_module": "@jupyter-widgets/base",
          "model_name": "LayoutModel",
          "model_module_version": "1.2.0",
          "state": {
            "_model_module": "@jupyter-widgets/base",
            "_model_module_version": "1.2.0",
            "_model_name": "LayoutModel",
            "_view_count": null,
            "_view_module": "@jupyter-widgets/base",
            "_view_module_version": "1.2.0",
            "_view_name": "LayoutView",
            "align_content": null,
            "align_items": null,
            "align_self": null,
            "border": null,
            "bottom": null,
            "display": null,
            "flex": null,
            "flex_flow": null,
            "grid_area": null,
            "grid_auto_columns": null,
            "grid_auto_flow": null,
            "grid_auto_rows": null,
            "grid_column": null,
            "grid_gap": null,
            "grid_row": null,
            "grid_template_areas": null,
            "grid_template_columns": null,
            "grid_template_rows": null,
            "height": null,
            "justify_content": null,
            "justify_items": null,
            "left": null,
            "margin": null,
            "max_height": null,
            "max_width": null,
            "min_height": null,
            "min_width": null,
            "object_fit": null,
            "object_position": null,
            "order": null,
            "overflow": null,
            "overflow_x": null,
            "overflow_y": null,
            "padding": null,
            "right": null,
            "top": null,
            "visibility": null,
            "width": null
          }
        },
        "7b8cf044d2f5424a9b8df9bebe4da471": {
          "model_module": "@jupyter-widgets/controls",
          "model_name": "DescriptionStyleModel",
          "model_module_version": "1.5.0",
          "state": {
            "_model_module": "@jupyter-widgets/controls",
            "_model_module_version": "1.5.0",
            "_model_name": "DescriptionStyleModel",
            "_view_count": null,
            "_view_module": "@jupyter-widgets/base",
            "_view_module_version": "1.2.0",
            "_view_name": "StyleView",
            "description_width": ""
          }
        },
        "d4d155a1915d4fb68f7df9df2ce08a79": {
          "model_module": "@jupyter-widgets/base",
          "model_name": "LayoutModel",
          "model_module_version": "1.2.0",
          "state": {
            "_model_module": "@jupyter-widgets/base",
            "_model_module_version": "1.2.0",
            "_model_name": "LayoutModel",
            "_view_count": null,
            "_view_module": "@jupyter-widgets/base",
            "_view_module_version": "1.2.0",
            "_view_name": "LayoutView",
            "align_content": null,
            "align_items": null,
            "align_self": null,
            "border": null,
            "bottom": null,
            "display": null,
            "flex": null,
            "flex_flow": null,
            "grid_area": null,
            "grid_auto_columns": null,
            "grid_auto_flow": null,
            "grid_auto_rows": null,
            "grid_column": null,
            "grid_gap": null,
            "grid_row": null,
            "grid_template_areas": null,
            "grid_template_columns": null,
            "grid_template_rows": null,
            "height": null,
            "justify_content": null,
            "justify_items": null,
            "left": null,
            "margin": null,
            "max_height": null,
            "max_width": null,
            "min_height": null,
            "min_width": null,
            "object_fit": null,
            "object_position": null,
            "order": null,
            "overflow": null,
            "overflow_x": null,
            "overflow_y": null,
            "padding": null,
            "right": null,
            "top": null,
            "visibility": null,
            "width": null
          }
        },
        "af368214696845949bdfe3f759b3cc8a": {
          "model_module": "@jupyter-widgets/controls",
          "model_name": "ProgressStyleModel",
          "model_module_version": "1.5.0",
          "state": {
            "_model_module": "@jupyter-widgets/controls",
            "_model_module_version": "1.5.0",
            "_model_name": "ProgressStyleModel",
            "_view_count": null,
            "_view_module": "@jupyter-widgets/base",
            "_view_module_version": "1.2.0",
            "_view_name": "StyleView",
            "bar_color": null,
            "description_width": ""
          }
        },
        "eb653ae92d1b4ec8a5920f7f4b21f5b3": {
          "model_module": "@jupyter-widgets/base",
          "model_name": "LayoutModel",
          "model_module_version": "1.2.0",
          "state": {
            "_model_module": "@jupyter-widgets/base",
            "_model_module_version": "1.2.0",
            "_model_name": "LayoutModel",
            "_view_count": null,
            "_view_module": "@jupyter-widgets/base",
            "_view_module_version": "1.2.0",
            "_view_name": "LayoutView",
            "align_content": null,
            "align_items": null,
            "align_self": null,
            "border": null,
            "bottom": null,
            "display": null,
            "flex": null,
            "flex_flow": null,
            "grid_area": null,
            "grid_auto_columns": null,
            "grid_auto_flow": null,
            "grid_auto_rows": null,
            "grid_column": null,
            "grid_gap": null,
            "grid_row": null,
            "grid_template_areas": null,
            "grid_template_columns": null,
            "grid_template_rows": null,
            "height": null,
            "justify_content": null,
            "justify_items": null,
            "left": null,
            "margin": null,
            "max_height": null,
            "max_width": null,
            "min_height": null,
            "min_width": null,
            "object_fit": null,
            "object_position": null,
            "order": null,
            "overflow": null,
            "overflow_x": null,
            "overflow_y": null,
            "padding": null,
            "right": null,
            "top": null,
            "visibility": null,
            "width": null
          }
        },
        "819166b3aadb4a1aba915deed97d8820": {
          "model_module": "@jupyter-widgets/controls",
          "model_name": "DescriptionStyleModel",
          "model_module_version": "1.5.0",
          "state": {
            "_model_module": "@jupyter-widgets/controls",
            "_model_module_version": "1.5.0",
            "_model_name": "DescriptionStyleModel",
            "_view_count": null,
            "_view_module": "@jupyter-widgets/base",
            "_view_module_version": "1.2.0",
            "_view_name": "StyleView",
            "description_width": ""
          }
        },
        "b870e77803244b36a9cfa9b2f2461910": {
          "model_module": "@jupyter-widgets/controls",
          "model_name": "HBoxModel",
          "model_module_version": "1.5.0",
          "state": {
            "_dom_classes": [],
            "_model_module": "@jupyter-widgets/controls",
            "_model_module_version": "1.5.0",
            "_model_name": "HBoxModel",
            "_view_count": null,
            "_view_module": "@jupyter-widgets/controls",
            "_view_module_version": "1.5.0",
            "_view_name": "HBoxView",
            "box_style": "",
            "children": [
              "IPY_MODEL_514db3b1f6a5421d96ed3c211a9bbbbe",
              "IPY_MODEL_afd5740cc4f94111b5137c4e95e33452",
              "IPY_MODEL_a87a1bf63b954bfcbd960b522209ff22"
            ],
            "layout": "IPY_MODEL_0ff9e337f3b34c0cae7b7d581ca09ec2"
          }
        },
        "514db3b1f6a5421d96ed3c211a9bbbbe": {
          "model_module": "@jupyter-widgets/controls",
          "model_name": "HTMLModel",
          "model_module_version": "1.5.0",
          "state": {
            "_dom_classes": [],
            "_model_module": "@jupyter-widgets/controls",
            "_model_module_version": "1.5.0",
            "_model_name": "HTMLModel",
            "_view_count": null,
            "_view_module": "@jupyter-widgets/controls",
            "_view_module_version": "1.5.0",
            "_view_name": "HTMLView",
            "description": "",
            "description_tooltip": null,
            "layout": "IPY_MODEL_277d4a06cc7b438e9c12179f0c12163f",
            "placeholder": "​",
            "style": "IPY_MODEL_a32ec5c6374d4820848f0873656f5b2c",
            "value": "100%"
          }
        },
        "afd5740cc4f94111b5137c4e95e33452": {
          "model_module": "@jupyter-widgets/controls",
          "model_name": "FloatProgressModel",
          "model_module_version": "1.5.0",
          "state": {
            "_dom_classes": [],
            "_model_module": "@jupyter-widgets/controls",
            "_model_module_version": "1.5.0",
            "_model_name": "FloatProgressModel",
            "_view_count": null,
            "_view_module": "@jupyter-widgets/controls",
            "_view_module_version": "1.5.0",
            "_view_name": "ProgressView",
            "bar_style": "success",
            "description": "",
            "description_tooltip": null,
            "layout": "IPY_MODEL_3c160c120cb04131bea598d15e4a9d1b",
            "max": 3,
            "min": 0,
            "orientation": "horizontal",
            "style": "IPY_MODEL_87f39d2a43854977841a77c3e27403fe",
            "value": 3
          }
        },
        "a87a1bf63b954bfcbd960b522209ff22": {
          "model_module": "@jupyter-widgets/controls",
          "model_name": "HTMLModel",
          "model_module_version": "1.5.0",
          "state": {
            "_dom_classes": [],
            "_model_module": "@jupyter-widgets/controls",
            "_model_module_version": "1.5.0",
            "_model_name": "HTMLModel",
            "_view_count": null,
            "_view_module": "@jupyter-widgets/controls",
            "_view_module_version": "1.5.0",
            "_view_name": "HTMLView",
            "description": "",
            "description_tooltip": null,
            "layout": "IPY_MODEL_e6c5ed4fb1f1488980252d91d4aaa38a",
            "placeholder": "​",
            "style": "IPY_MODEL_2ffcc36170a647b3bbe98f24ed2642db",
            "value": " 3/3 [00:36&lt;00:00, 12.01s/it]"
          }
        },
        "0ff9e337f3b34c0cae7b7d581ca09ec2": {
          "model_module": "@jupyter-widgets/base",
          "model_name": "LayoutModel",
          "model_module_version": "1.2.0",
          "state": {
            "_model_module": "@jupyter-widgets/base",
            "_model_module_version": "1.2.0",
            "_model_name": "LayoutModel",
            "_view_count": null,
            "_view_module": "@jupyter-widgets/base",
            "_view_module_version": "1.2.0",
            "_view_name": "LayoutView",
            "align_content": null,
            "align_items": null,
            "align_self": null,
            "border": null,
            "bottom": null,
            "display": null,
            "flex": null,
            "flex_flow": null,
            "grid_area": null,
            "grid_auto_columns": null,
            "grid_auto_flow": null,
            "grid_auto_rows": null,
            "grid_column": null,
            "grid_gap": null,
            "grid_row": null,
            "grid_template_areas": null,
            "grid_template_columns": null,
            "grid_template_rows": null,
            "height": null,
            "justify_content": null,
            "justify_items": null,
            "left": null,
            "margin": null,
            "max_height": null,
            "max_width": null,
            "min_height": null,
            "min_width": null,
            "object_fit": null,
            "object_position": null,
            "order": null,
            "overflow": null,
            "overflow_x": null,
            "overflow_y": null,
            "padding": null,
            "right": null,
            "top": null,
            "visibility": null,
            "width": null
          }
        },
        "277d4a06cc7b438e9c12179f0c12163f": {
          "model_module": "@jupyter-widgets/base",
          "model_name": "LayoutModel",
          "model_module_version": "1.2.0",
          "state": {
            "_model_module": "@jupyter-widgets/base",
            "_model_module_version": "1.2.0",
            "_model_name": "LayoutModel",
            "_view_count": null,
            "_view_module": "@jupyter-widgets/base",
            "_view_module_version": "1.2.0",
            "_view_name": "LayoutView",
            "align_content": null,
            "align_items": null,
            "align_self": null,
            "border": null,
            "bottom": null,
            "display": null,
            "flex": null,
            "flex_flow": null,
            "grid_area": null,
            "grid_auto_columns": null,
            "grid_auto_flow": null,
            "grid_auto_rows": null,
            "grid_column": null,
            "grid_gap": null,
            "grid_row": null,
            "grid_template_areas": null,
            "grid_template_columns": null,
            "grid_template_rows": null,
            "height": null,
            "justify_content": null,
            "justify_items": null,
            "left": null,
            "margin": null,
            "max_height": null,
            "max_width": null,
            "min_height": null,
            "min_width": null,
            "object_fit": null,
            "object_position": null,
            "order": null,
            "overflow": null,
            "overflow_x": null,
            "overflow_y": null,
            "padding": null,
            "right": null,
            "top": null,
            "visibility": null,
            "width": null
          }
        },
        "a32ec5c6374d4820848f0873656f5b2c": {
          "model_module": "@jupyter-widgets/controls",
          "model_name": "DescriptionStyleModel",
          "model_module_version": "1.5.0",
          "state": {
            "_model_module": "@jupyter-widgets/controls",
            "_model_module_version": "1.5.0",
            "_model_name": "DescriptionStyleModel",
            "_view_count": null,
            "_view_module": "@jupyter-widgets/base",
            "_view_module_version": "1.2.0",
            "_view_name": "StyleView",
            "description_width": ""
          }
        },
        "3c160c120cb04131bea598d15e4a9d1b": {
          "model_module": "@jupyter-widgets/base",
          "model_name": "LayoutModel",
          "model_module_version": "1.2.0",
          "state": {
            "_model_module": "@jupyter-widgets/base",
            "_model_module_version": "1.2.0",
            "_model_name": "LayoutModel",
            "_view_count": null,
            "_view_module": "@jupyter-widgets/base",
            "_view_module_version": "1.2.0",
            "_view_name": "LayoutView",
            "align_content": null,
            "align_items": null,
            "align_self": null,
            "border": null,
            "bottom": null,
            "display": null,
            "flex": null,
            "flex_flow": null,
            "grid_area": null,
            "grid_auto_columns": null,
            "grid_auto_flow": null,
            "grid_auto_rows": null,
            "grid_column": null,
            "grid_gap": null,
            "grid_row": null,
            "grid_template_areas": null,
            "grid_template_columns": null,
            "grid_template_rows": null,
            "height": null,
            "justify_content": null,
            "justify_items": null,
            "left": null,
            "margin": null,
            "max_height": null,
            "max_width": null,
            "min_height": null,
            "min_width": null,
            "object_fit": null,
            "object_position": null,
            "order": null,
            "overflow": null,
            "overflow_x": null,
            "overflow_y": null,
            "padding": null,
            "right": null,
            "top": null,
            "visibility": null,
            "width": null
          }
        },
        "87f39d2a43854977841a77c3e27403fe": {
          "model_module": "@jupyter-widgets/controls",
          "model_name": "ProgressStyleModel",
          "model_module_version": "1.5.0",
          "state": {
            "_model_module": "@jupyter-widgets/controls",
            "_model_module_version": "1.5.0",
            "_model_name": "ProgressStyleModel",
            "_view_count": null,
            "_view_module": "@jupyter-widgets/base",
            "_view_module_version": "1.2.0",
            "_view_name": "StyleView",
            "bar_color": null,
            "description_width": ""
          }
        },
        "e6c5ed4fb1f1488980252d91d4aaa38a": {
          "model_module": "@jupyter-widgets/base",
          "model_name": "LayoutModel",
          "model_module_version": "1.2.0",
          "state": {
            "_model_module": "@jupyter-widgets/base",
            "_model_module_version": "1.2.0",
            "_model_name": "LayoutModel",
            "_view_count": null,
            "_view_module": "@jupyter-widgets/base",
            "_view_module_version": "1.2.0",
            "_view_name": "LayoutView",
            "align_content": null,
            "align_items": null,
            "align_self": null,
            "border": null,
            "bottom": null,
            "display": null,
            "flex": null,
            "flex_flow": null,
            "grid_area": null,
            "grid_auto_columns": null,
            "grid_auto_flow": null,
            "grid_auto_rows": null,
            "grid_column": null,
            "grid_gap": null,
            "grid_row": null,
            "grid_template_areas": null,
            "grid_template_columns": null,
            "grid_template_rows": null,
            "height": null,
            "justify_content": null,
            "justify_items": null,
            "left": null,
            "margin": null,
            "max_height": null,
            "max_width": null,
            "min_height": null,
            "min_width": null,
            "object_fit": null,
            "object_position": null,
            "order": null,
            "overflow": null,
            "overflow_x": null,
            "overflow_y": null,
            "padding": null,
            "right": null,
            "top": null,
            "visibility": null,
            "width": null
          }
        },
        "2ffcc36170a647b3bbe98f24ed2642db": {
          "model_module": "@jupyter-widgets/controls",
          "model_name": "DescriptionStyleModel",
          "model_module_version": "1.5.0",
          "state": {
            "_model_module": "@jupyter-widgets/controls",
            "_model_module_version": "1.5.0",
            "_model_name": "DescriptionStyleModel",
            "_view_count": null,
            "_view_module": "@jupyter-widgets/base",
            "_view_module_version": "1.2.0",
            "_view_name": "StyleView",
            "description_width": ""
          }
        },
        "45661279d07b4b41a7d8207cb4875b87": {
          "model_module": "@jupyter-widgets/controls",
          "model_name": "HBoxModel",
          "model_module_version": "1.5.0",
          "state": {
            "_dom_classes": [],
            "_model_module": "@jupyter-widgets/controls",
            "_model_module_version": "1.5.0",
            "_model_name": "HBoxModel",
            "_view_count": null,
            "_view_module": "@jupyter-widgets/controls",
            "_view_module_version": "1.5.0",
            "_view_name": "HBoxView",
            "box_style": "",
            "children": [
              "IPY_MODEL_59c74b9b32544ca48823e63f8e624b16",
              "IPY_MODEL_67c7928e2acb49cf848a9c72c2fc3aca",
              "IPY_MODEL_43163e953bfc4418bced2fca5798657c"
            ],
            "layout": "IPY_MODEL_f85f3c2eb5634e72b6d44c8238d37b96"
          }
        },
        "59c74b9b32544ca48823e63f8e624b16": {
          "model_module": "@jupyter-widgets/controls",
          "model_name": "HTMLModel",
          "model_module_version": "1.5.0",
          "state": {
            "_dom_classes": [],
            "_model_module": "@jupyter-widgets/controls",
            "_model_module_version": "1.5.0",
            "_model_name": "HTMLModel",
            "_view_count": null,
            "_view_module": "@jupyter-widgets/controls",
            "_view_module_version": "1.5.0",
            "_view_name": "HTMLView",
            "description": "",
            "description_tooltip": null,
            "layout": "IPY_MODEL_ee8fd28603814fffbb9fcbe2b4a3b488",
            "placeholder": "​",
            "style": "IPY_MODEL_50138f31d6314f6abbfb93b1ca238e59",
            "value": "100%"
          }
        },
        "67c7928e2acb49cf848a9c72c2fc3aca": {
          "model_module": "@jupyter-widgets/controls",
          "model_name": "FloatProgressModel",
          "model_module_version": "1.5.0",
          "state": {
            "_dom_classes": [],
            "_model_module": "@jupyter-widgets/controls",
            "_model_module_version": "1.5.0",
            "_model_name": "FloatProgressModel",
            "_view_count": null,
            "_view_module": "@jupyter-widgets/controls",
            "_view_module_version": "1.5.0",
            "_view_name": "ProgressView",
            "bar_style": "success",
            "description": "",
            "description_tooltip": null,
            "layout": "IPY_MODEL_56ee5caf68a542c8aebfae347d4f6abe",
            "max": 3,
            "min": 0,
            "orientation": "horizontal",
            "style": "IPY_MODEL_dd31ede630e44d9a84a17e14657050a4",
            "value": 3
          }
        },
        "43163e953bfc4418bced2fca5798657c": {
          "model_module": "@jupyter-widgets/controls",
          "model_name": "HTMLModel",
          "model_module_version": "1.5.0",
          "state": {
            "_dom_classes": [],
            "_model_module": "@jupyter-widgets/controls",
            "_model_module_version": "1.5.0",
            "_model_name": "HTMLModel",
            "_view_count": null,
            "_view_module": "@jupyter-widgets/controls",
            "_view_module_version": "1.5.0",
            "_view_name": "HTMLView",
            "description": "",
            "description_tooltip": null,
            "layout": "IPY_MODEL_b6cecb0949044f948d2c41cb8fe3167f",
            "placeholder": "​",
            "style": "IPY_MODEL_ae93f9ef4cad47d29c218c1ee9c2af11",
            "value": " 3/3 [00:41&lt;00:00, 13.87s/it]"
          }
        },
        "f85f3c2eb5634e72b6d44c8238d37b96": {
          "model_module": "@jupyter-widgets/base",
          "model_name": "LayoutModel",
          "model_module_version": "1.2.0",
          "state": {
            "_model_module": "@jupyter-widgets/base",
            "_model_module_version": "1.2.0",
            "_model_name": "LayoutModel",
            "_view_count": null,
            "_view_module": "@jupyter-widgets/base",
            "_view_module_version": "1.2.0",
            "_view_name": "LayoutView",
            "align_content": null,
            "align_items": null,
            "align_self": null,
            "border": null,
            "bottom": null,
            "display": null,
            "flex": null,
            "flex_flow": null,
            "grid_area": null,
            "grid_auto_columns": null,
            "grid_auto_flow": null,
            "grid_auto_rows": null,
            "grid_column": null,
            "grid_gap": null,
            "grid_row": null,
            "grid_template_areas": null,
            "grid_template_columns": null,
            "grid_template_rows": null,
            "height": null,
            "justify_content": null,
            "justify_items": null,
            "left": null,
            "margin": null,
            "max_height": null,
            "max_width": null,
            "min_height": null,
            "min_width": null,
            "object_fit": null,
            "object_position": null,
            "order": null,
            "overflow": null,
            "overflow_x": null,
            "overflow_y": null,
            "padding": null,
            "right": null,
            "top": null,
            "visibility": null,
            "width": null
          }
        },
        "ee8fd28603814fffbb9fcbe2b4a3b488": {
          "model_module": "@jupyter-widgets/base",
          "model_name": "LayoutModel",
          "model_module_version": "1.2.0",
          "state": {
            "_model_module": "@jupyter-widgets/base",
            "_model_module_version": "1.2.0",
            "_model_name": "LayoutModel",
            "_view_count": null,
            "_view_module": "@jupyter-widgets/base",
            "_view_module_version": "1.2.0",
            "_view_name": "LayoutView",
            "align_content": null,
            "align_items": null,
            "align_self": null,
            "border": null,
            "bottom": null,
            "display": null,
            "flex": null,
            "flex_flow": null,
            "grid_area": null,
            "grid_auto_columns": null,
            "grid_auto_flow": null,
            "grid_auto_rows": null,
            "grid_column": null,
            "grid_gap": null,
            "grid_row": null,
            "grid_template_areas": null,
            "grid_template_columns": null,
            "grid_template_rows": null,
            "height": null,
            "justify_content": null,
            "justify_items": null,
            "left": null,
            "margin": null,
            "max_height": null,
            "max_width": null,
            "min_height": null,
            "min_width": null,
            "object_fit": null,
            "object_position": null,
            "order": null,
            "overflow": null,
            "overflow_x": null,
            "overflow_y": null,
            "padding": null,
            "right": null,
            "top": null,
            "visibility": null,
            "width": null
          }
        },
        "50138f31d6314f6abbfb93b1ca238e59": {
          "model_module": "@jupyter-widgets/controls",
          "model_name": "DescriptionStyleModel",
          "model_module_version": "1.5.0",
          "state": {
            "_model_module": "@jupyter-widgets/controls",
            "_model_module_version": "1.5.0",
            "_model_name": "DescriptionStyleModel",
            "_view_count": null,
            "_view_module": "@jupyter-widgets/base",
            "_view_module_version": "1.2.0",
            "_view_name": "StyleView",
            "description_width": ""
          }
        },
        "56ee5caf68a542c8aebfae347d4f6abe": {
          "model_module": "@jupyter-widgets/base",
          "model_name": "LayoutModel",
          "model_module_version": "1.2.0",
          "state": {
            "_model_module": "@jupyter-widgets/base",
            "_model_module_version": "1.2.0",
            "_model_name": "LayoutModel",
            "_view_count": null,
            "_view_module": "@jupyter-widgets/base",
            "_view_module_version": "1.2.0",
            "_view_name": "LayoutView",
            "align_content": null,
            "align_items": null,
            "align_self": null,
            "border": null,
            "bottom": null,
            "display": null,
            "flex": null,
            "flex_flow": null,
            "grid_area": null,
            "grid_auto_columns": null,
            "grid_auto_flow": null,
            "grid_auto_rows": null,
            "grid_column": null,
            "grid_gap": null,
            "grid_row": null,
            "grid_template_areas": null,
            "grid_template_columns": null,
            "grid_template_rows": null,
            "height": null,
            "justify_content": null,
            "justify_items": null,
            "left": null,
            "margin": null,
            "max_height": null,
            "max_width": null,
            "min_height": null,
            "min_width": null,
            "object_fit": null,
            "object_position": null,
            "order": null,
            "overflow": null,
            "overflow_x": null,
            "overflow_y": null,
            "padding": null,
            "right": null,
            "top": null,
            "visibility": null,
            "width": null
          }
        },
        "dd31ede630e44d9a84a17e14657050a4": {
          "model_module": "@jupyter-widgets/controls",
          "model_name": "ProgressStyleModel",
          "model_module_version": "1.5.0",
          "state": {
            "_model_module": "@jupyter-widgets/controls",
            "_model_module_version": "1.5.0",
            "_model_name": "ProgressStyleModel",
            "_view_count": null,
            "_view_module": "@jupyter-widgets/base",
            "_view_module_version": "1.2.0",
            "_view_name": "StyleView",
            "bar_color": null,
            "description_width": ""
          }
        },
        "b6cecb0949044f948d2c41cb8fe3167f": {
          "model_module": "@jupyter-widgets/base",
          "model_name": "LayoutModel",
          "model_module_version": "1.2.0",
          "state": {
            "_model_module": "@jupyter-widgets/base",
            "_model_module_version": "1.2.0",
            "_model_name": "LayoutModel",
            "_view_count": null,
            "_view_module": "@jupyter-widgets/base",
            "_view_module_version": "1.2.0",
            "_view_name": "LayoutView",
            "align_content": null,
            "align_items": null,
            "align_self": null,
            "border": null,
            "bottom": null,
            "display": null,
            "flex": null,
            "flex_flow": null,
            "grid_area": null,
            "grid_auto_columns": null,
            "grid_auto_flow": null,
            "grid_auto_rows": null,
            "grid_column": null,
            "grid_gap": null,
            "grid_row": null,
            "grid_template_areas": null,
            "grid_template_columns": null,
            "grid_template_rows": null,
            "height": null,
            "justify_content": null,
            "justify_items": null,
            "left": null,
            "margin": null,
            "max_height": null,
            "max_width": null,
            "min_height": null,
            "min_width": null,
            "object_fit": null,
            "object_position": null,
            "order": null,
            "overflow": null,
            "overflow_x": null,
            "overflow_y": null,
            "padding": null,
            "right": null,
            "top": null,
            "visibility": null,
            "width": null
          }
        },
        "ae93f9ef4cad47d29c218c1ee9c2af11": {
          "model_module": "@jupyter-widgets/controls",
          "model_name": "DescriptionStyleModel",
          "model_module_version": "1.5.0",
          "state": {
            "_model_module": "@jupyter-widgets/controls",
            "_model_module_version": "1.5.0",
            "_model_name": "DescriptionStyleModel",
            "_view_count": null,
            "_view_module": "@jupyter-widgets/base",
            "_view_module_version": "1.2.0",
            "_view_name": "StyleView",
            "description_width": ""
          }
        }
      }
    }
  },
  "cells": [
    {
      "cell_type": "markdown",
      "metadata": {
        "id": "view-in-github",
        "colab_type": "text"
      },
      "source": [
        "<a href=\"https://colab.research.google.com/github/judahwo/PyTorch_Full_Course/blob/main/03_PyTorch_Computer_Vision.ipynb\" target=\"_parent\"><img src=\"https://colab.research.google.com/assets/colab-badge.svg\" alt=\"Open In Colab\"/></a>"
      ]
    },
    {
      "cell_type": "markdown",
      "source": [
        "# **03 Computer Vision**\n",
        "\n",
        "**What is computer vision? **\n",
        "\n",
        "\n",
        "Computer vision is a field of artificial intelligence that trains computers to interpret and understand the visual world. In other words, it enables computers to identify and process objects in images and videos in the same way that humans do.\n",
        "\n",
        "Some of the general applications of computer vision include:\n",
        "\n",
        "1. **Image Recognition:** This is probably the most common use of computer vision and it includes the identification and detection of objects or features in an image.\n",
        "\n",
        "2. **Object Detection:** This is about finding instances of real-world objects in images or videos. This can include people, buildings, or any other objects.\n",
        "\n",
        "3. **Object Tracking:** Once an object has been identified, computer vision algorithms can continuously track the object's movement in a video.\n",
        "\n",
        "4. **Semantic Segmentation:** This involves dividing an image into different segments, each segment representing a different class or category of objects.\n",
        "\n",
        "5. **3D Reconstruction:** Computer vision can also create a 3D model of any object or even a large environment.\n",
        "\n"
      ],
      "metadata": {
        "id": "0L8__tbBnyaL"
      }
    },
    {
      "cell_type": "markdown",
      "source": [
        " ## **3.0 Computer Vision Libararies**\n",
        "\n",
        " | PyTorch Libarary | What Does it Do? |\n",
        " |:----------|:---------|\n",
        " |**`torchvision`**|Contains datasets, model architectures and image transformations often used for computer vision problems.|\n",
        " |**`torchvision.datasets`**|Here you'll find many example computer vision datasets for a range of problems from image classification, object detection, image captioning, video classification<br> and more. It also contains a series of base classes for making custom datasets.|\n",
        " |**`torchvision.models`**|This module contains well-performing and commonly used computer vision model architectures implemented in PyTorch, you can use these with your own problems.|\n",
        " |**`torchvision.transforms`**|Often images need to be transformed (turned into numbers/processed/augmented) before being used with a model, common image transformations are found here.|\n",
        " |**`torch.utils.data.Dataset`**|Base dataset class for PyTorch.|\n",
        " |**`torch.utils.data.DataLoader`**|Creates a Python iteralbe over a dataset (created with torch.utils.data.Dataset).|\n",
        "\n",
        "> **References:**<br>\n",
        "* [**`torchvision`**](https://pytorch.org/vision/stable/index.html)<br>\n",
        "* [**`torchvision.transforms`**](https://pytorch.org/vision/stable/transforms.html)"
      ],
      "metadata": {
        "id": "-j90SgODop4X"
      }
    },
    {
      "cell_type": "code",
      "source": [
        "# Imports\n",
        "import torch\n",
        "from torch import nn\n",
        "import torchvision\n",
        "from torchvision import datasets\n",
        "from torchvision import transforms\n",
        "from torchvision.transforms import ToTensor\n",
        "import matplotlib.pyplot as plt\n",
        "\n",
        "# Check version\n",
        "print(torch.__version__)\n",
        "print(torchvision.__version__)"
      ],
      "metadata": {
        "id": "Yg5t4MEeqJ9I",
        "colab": {
          "base_uri": "https://localhost:8080/"
        },
        "outputId": "47d5747d-9683-4e48-b462-2370a6c447d1"
      },
      "execution_count": null,
      "outputs": [
        {
          "output_type": "stream",
          "name": "stdout",
          "text": [
            "2.0.1+cu118\n",
            "0.15.2+cu118\n"
          ]
        }
      ]
    },
    {
      "cell_type": "markdown",
      "source": [
        "## **3.1 Getting a Dataset**\n",
        "\n",
        "The dataset we'll be using is FashionMNIST.\n",
        "\n",
        "> **References:**<br> \n",
        "* [**`FashionMNIST`**](https://pytorch.org/vision/main/generated/torchvision.datasets.FashionMNIST.html)<br>\n",
        "* [**`ToTensor`**](https://pytorch.org/vision/stable/generated/torchvision.transforms.ToTensor.html)<br>\n",
        "* [**PyTorch Datasets**](https://pytorch.org/vision/main/datasets.html)\n",
        "\n",
        "In this module we will be exploring computer vision using premade datasets for this purpose. In the next module, we will learn how to create custom datasets"
      ],
      "metadata": {
        "id": "qeskLTbcsUxM"
      }
    },
    {
      "cell_type": "code",
      "source": [
        "# Setup training data\n",
        "train_data = datasets.FashionMNIST(\n",
        "    root=\"data\", # where to download data to?\n",
        "    train=True, # get training data\n",
        "    download=True, # download data if it doesn't exist on disk\n",
        "    transform=ToTensor(), # images come as PIL format, we want to turn into Torch tensors\n",
        "    target_transform=None # you can transform labels as well\n",
        ")\n",
        "\n",
        "# Setup testing data\n",
        "test_data = datasets.FashionMNIST(\n",
        "    root=\"data\",\n",
        "    train=False, # get test data\n",
        "    download=True,\n",
        "    transform=ToTensor()\n",
        ")"
      ],
      "metadata": {
        "id": "r8KVnjFx2xa6"
      },
      "execution_count": null,
      "outputs": []
    },
    {
      "cell_type": "markdown",
      "source": [
        "**Code Explaination:**\n",
        "\n",
        "| Line | Example Code | Explaination |\n",
        "|:---|:---|:---|\n",
        "|2|**`train_data = datasets.FashionMNIST(`**|This line is initializing a `FashionMNIST` object from the `datasets` module in torchvision and assigning it to the variable `train_data`. It's fetching<br> the training data from the FashionMNIST dataset.|\n",
        "|3|**`root=\"data\",`** |This indicates the directory where the data will be stored. If the data is not present at this location, it will be downloaded.|\n",
        "|4|**`train=True,`**|This flag indicates whether to fetch training data (`True`) or testing data (`False`). Here, it's set to True, which means we are fetching training data.|\n",
        "|5|**`download=True`**,| If the data isn't already present at the location specified by the `root` argument, this flag will download it.|\n",
        "|6|**`transform=ToTensor(),`**|This argument is meant for specifying any transformations that should be applied to the images in the dataset. `ToTensor()` is a common<br> transformation that converts the images to a PyTorch tensor.|\n",
        "|7|**`target_transform=None`**|This argument is used to specify a function that is applied to the labels of the data. Here it is set to `None`, which means no transformation is applied<br> to the labels.|\n",
        "|11|**`test_data = datasets.FashionMNIST(`**|This line is similar to the first one, but here the `FashionMNIST` object is assigned to the variable `test_data`. This object will contain the test data from<br> the FashionMNIST dataset.|\n",
        "|12|**`root=\"data\",`**|same as line 3|\n",
        "|13|**`train=False,`**|same as line 4 except false, see line 4 description|\n",
        "|14|**`download=True,`**|same as line 5|\n",
        "|15|**`transform=ToTensor()`**|same as line 6|\n",
        "\n"
      ],
      "metadata": {
        "id": "o9bxfpO33QJD"
      }
    },
    {
      "cell_type": "code",
      "source": [
        "# See first training sample\n",
        "image, label = train_data[0]\n",
        "image, label"
      ],
      "metadata": {
        "colab": {
          "base_uri": "https://localhost:8080/"
        },
        "id": "r7eq7THk9vai",
        "outputId": "430da0cf-dd6f-450a-faa3-d87d28739573"
      },
      "execution_count": null,
      "outputs": [
        {
          "output_type": "execute_result",
          "data": {
            "text/plain": [
              "(tensor([[[0.0000, 0.0000, 0.0000, 0.0000, 0.0000, 0.0000, 0.0000, 0.0000,\n",
              "           0.0000, 0.0000, 0.0000, 0.0000, 0.0000, 0.0000, 0.0000, 0.0000,\n",
              "           0.0000, 0.0000, 0.0000, 0.0000, 0.0000, 0.0000, 0.0000, 0.0000,\n",
              "           0.0000, 0.0000, 0.0000, 0.0000],\n",
              "          [0.0000, 0.0000, 0.0000, 0.0000, 0.0000, 0.0000, 0.0000, 0.0000,\n",
              "           0.0000, 0.0000, 0.0000, 0.0000, 0.0000, 0.0000, 0.0000, 0.0000,\n",
              "           0.0000, 0.0000, 0.0000, 0.0000, 0.0000, 0.0000, 0.0000, 0.0000,\n",
              "           0.0000, 0.0000, 0.0000, 0.0000],\n",
              "          [0.0000, 0.0000, 0.0000, 0.0000, 0.0000, 0.0000, 0.0000, 0.0000,\n",
              "           0.0000, 0.0000, 0.0000, 0.0000, 0.0000, 0.0000, 0.0000, 0.0000,\n",
              "           0.0000, 0.0000, 0.0000, 0.0000, 0.0000, 0.0000, 0.0000, 0.0000,\n",
              "           0.0000, 0.0000, 0.0000, 0.0000],\n",
              "          [0.0000, 0.0000, 0.0000, 0.0000, 0.0000, 0.0000, 0.0000, 0.0000,\n",
              "           0.0000, 0.0000, 0.0000, 0.0000, 0.0039, 0.0000, 0.0000, 0.0510,\n",
              "           0.2863, 0.0000, 0.0000, 0.0039, 0.0157, 0.0000, 0.0000, 0.0000,\n",
              "           0.0000, 0.0039, 0.0039, 0.0000],\n",
              "          [0.0000, 0.0000, 0.0000, 0.0000, 0.0000, 0.0000, 0.0000, 0.0000,\n",
              "           0.0000, 0.0000, 0.0000, 0.0000, 0.0118, 0.0000, 0.1412, 0.5333,\n",
              "           0.4980, 0.2431, 0.2118, 0.0000, 0.0000, 0.0000, 0.0039, 0.0118,\n",
              "           0.0157, 0.0000, 0.0000, 0.0118],\n",
              "          [0.0000, 0.0000, 0.0000, 0.0000, 0.0000, 0.0000, 0.0000, 0.0000,\n",
              "           0.0000, 0.0000, 0.0000, 0.0000, 0.0235, 0.0000, 0.4000, 0.8000,\n",
              "           0.6902, 0.5255, 0.5647, 0.4824, 0.0902, 0.0000, 0.0000, 0.0000,\n",
              "           0.0000, 0.0471, 0.0392, 0.0000],\n",
              "          [0.0000, 0.0000, 0.0000, 0.0000, 0.0000, 0.0000, 0.0000, 0.0000,\n",
              "           0.0000, 0.0000, 0.0000, 0.0000, 0.0000, 0.0000, 0.6078, 0.9255,\n",
              "           0.8118, 0.6980, 0.4196, 0.6118, 0.6314, 0.4275, 0.2510, 0.0902,\n",
              "           0.3020, 0.5098, 0.2824, 0.0588],\n",
              "          [0.0000, 0.0000, 0.0000, 0.0000, 0.0000, 0.0000, 0.0000, 0.0000,\n",
              "           0.0000, 0.0000, 0.0000, 0.0039, 0.0000, 0.2706, 0.8118, 0.8745,\n",
              "           0.8549, 0.8471, 0.8471, 0.6392, 0.4980, 0.4745, 0.4784, 0.5725,\n",
              "           0.5529, 0.3451, 0.6745, 0.2588],\n",
              "          [0.0000, 0.0000, 0.0000, 0.0000, 0.0000, 0.0000, 0.0000, 0.0000,\n",
              "           0.0000, 0.0039, 0.0039, 0.0039, 0.0000, 0.7843, 0.9098, 0.9098,\n",
              "           0.9137, 0.8980, 0.8745, 0.8745, 0.8431, 0.8353, 0.6431, 0.4980,\n",
              "           0.4824, 0.7686, 0.8980, 0.0000],\n",
              "          [0.0000, 0.0000, 0.0000, 0.0000, 0.0000, 0.0000, 0.0000, 0.0000,\n",
              "           0.0000, 0.0000, 0.0000, 0.0000, 0.0000, 0.7176, 0.8824, 0.8471,\n",
              "           0.8745, 0.8941, 0.9216, 0.8902, 0.8784, 0.8706, 0.8784, 0.8667,\n",
              "           0.8745, 0.9608, 0.6784, 0.0000],\n",
              "          [0.0000, 0.0000, 0.0000, 0.0000, 0.0000, 0.0000, 0.0000, 0.0000,\n",
              "           0.0000, 0.0000, 0.0000, 0.0000, 0.0000, 0.7569, 0.8941, 0.8549,\n",
              "           0.8353, 0.7765, 0.7059, 0.8314, 0.8235, 0.8275, 0.8353, 0.8745,\n",
              "           0.8627, 0.9529, 0.7922, 0.0000],\n",
              "          [0.0000, 0.0000, 0.0000, 0.0000, 0.0000, 0.0000, 0.0000, 0.0000,\n",
              "           0.0000, 0.0039, 0.0118, 0.0000, 0.0471, 0.8588, 0.8627, 0.8314,\n",
              "           0.8549, 0.7529, 0.6627, 0.8902, 0.8157, 0.8549, 0.8784, 0.8314,\n",
              "           0.8863, 0.7725, 0.8196, 0.2039],\n",
              "          [0.0000, 0.0000, 0.0000, 0.0000, 0.0000, 0.0000, 0.0000, 0.0000,\n",
              "           0.0000, 0.0000, 0.0235, 0.0000, 0.3882, 0.9569, 0.8706, 0.8627,\n",
              "           0.8549, 0.7961, 0.7765, 0.8667, 0.8431, 0.8353, 0.8706, 0.8627,\n",
              "           0.9608, 0.4667, 0.6549, 0.2196],\n",
              "          [0.0000, 0.0000, 0.0000, 0.0000, 0.0000, 0.0000, 0.0000, 0.0000,\n",
              "           0.0000, 0.0157, 0.0000, 0.0000, 0.2157, 0.9255, 0.8941, 0.9020,\n",
              "           0.8941, 0.9412, 0.9098, 0.8353, 0.8549, 0.8745, 0.9176, 0.8510,\n",
              "           0.8510, 0.8196, 0.3608, 0.0000],\n",
              "          [0.0000, 0.0000, 0.0039, 0.0157, 0.0235, 0.0275, 0.0078, 0.0000,\n",
              "           0.0000, 0.0000, 0.0000, 0.0000, 0.9294, 0.8863, 0.8510, 0.8745,\n",
              "           0.8706, 0.8588, 0.8706, 0.8667, 0.8471, 0.8745, 0.8980, 0.8431,\n",
              "           0.8549, 1.0000, 0.3020, 0.0000],\n",
              "          [0.0000, 0.0118, 0.0000, 0.0000, 0.0000, 0.0000, 0.0000, 0.0000,\n",
              "           0.0000, 0.2431, 0.5686, 0.8000, 0.8941, 0.8118, 0.8353, 0.8667,\n",
              "           0.8549, 0.8157, 0.8275, 0.8549, 0.8784, 0.8745, 0.8588, 0.8431,\n",
              "           0.8784, 0.9569, 0.6235, 0.0000],\n",
              "          [0.0000, 0.0000, 0.0000, 0.0000, 0.0706, 0.1725, 0.3216, 0.4196,\n",
              "           0.7412, 0.8941, 0.8627, 0.8706, 0.8510, 0.8863, 0.7843, 0.8039,\n",
              "           0.8275, 0.9020, 0.8784, 0.9176, 0.6902, 0.7373, 0.9804, 0.9725,\n",
              "           0.9137, 0.9333, 0.8431, 0.0000],\n",
              "          [0.0000, 0.2235, 0.7333, 0.8157, 0.8784, 0.8667, 0.8784, 0.8157,\n",
              "           0.8000, 0.8392, 0.8157, 0.8196, 0.7843, 0.6235, 0.9608, 0.7569,\n",
              "           0.8078, 0.8745, 1.0000, 1.0000, 0.8667, 0.9176, 0.8667, 0.8275,\n",
              "           0.8627, 0.9098, 0.9647, 0.0000],\n",
              "          [0.0118, 0.7922, 0.8941, 0.8784, 0.8667, 0.8275, 0.8275, 0.8392,\n",
              "           0.8039, 0.8039, 0.8039, 0.8627, 0.9412, 0.3137, 0.5882, 1.0000,\n",
              "           0.8980, 0.8667, 0.7373, 0.6039, 0.7490, 0.8235, 0.8000, 0.8196,\n",
              "           0.8706, 0.8941, 0.8824, 0.0000],\n",
              "          [0.3843, 0.9137, 0.7765, 0.8235, 0.8706, 0.8980, 0.8980, 0.9176,\n",
              "           0.9765, 0.8627, 0.7608, 0.8431, 0.8510, 0.9451, 0.2549, 0.2863,\n",
              "           0.4157, 0.4588, 0.6588, 0.8588, 0.8667, 0.8431, 0.8510, 0.8745,\n",
              "           0.8745, 0.8784, 0.8980, 0.1137],\n",
              "          [0.2941, 0.8000, 0.8314, 0.8000, 0.7569, 0.8039, 0.8275, 0.8824,\n",
              "           0.8471, 0.7255, 0.7725, 0.8078, 0.7765, 0.8353, 0.9412, 0.7647,\n",
              "           0.8902, 0.9608, 0.9373, 0.8745, 0.8549, 0.8314, 0.8196, 0.8706,\n",
              "           0.8627, 0.8667, 0.9020, 0.2627],\n",
              "          [0.1882, 0.7961, 0.7176, 0.7608, 0.8353, 0.7725, 0.7255, 0.7451,\n",
              "           0.7608, 0.7529, 0.7922, 0.8392, 0.8588, 0.8667, 0.8627, 0.9255,\n",
              "           0.8824, 0.8471, 0.7804, 0.8078, 0.7294, 0.7098, 0.6941, 0.6745,\n",
              "           0.7098, 0.8039, 0.8078, 0.4510],\n",
              "          [0.0000, 0.4784, 0.8588, 0.7569, 0.7020, 0.6706, 0.7176, 0.7686,\n",
              "           0.8000, 0.8235, 0.8353, 0.8118, 0.8275, 0.8235, 0.7843, 0.7686,\n",
              "           0.7608, 0.7490, 0.7647, 0.7490, 0.7765, 0.7529, 0.6902, 0.6118,\n",
              "           0.6549, 0.6941, 0.8235, 0.3608],\n",
              "          [0.0000, 0.0000, 0.2902, 0.7412, 0.8314, 0.7490, 0.6863, 0.6745,\n",
              "           0.6863, 0.7098, 0.7255, 0.7373, 0.7412, 0.7373, 0.7569, 0.7765,\n",
              "           0.8000, 0.8196, 0.8235, 0.8235, 0.8275, 0.7373, 0.7373, 0.7608,\n",
              "           0.7529, 0.8471, 0.6667, 0.0000],\n",
              "          [0.0078, 0.0000, 0.0000, 0.0000, 0.2588, 0.7843, 0.8706, 0.9294,\n",
              "           0.9373, 0.9490, 0.9647, 0.9529, 0.9569, 0.8667, 0.8627, 0.7569,\n",
              "           0.7490, 0.7020, 0.7137, 0.7137, 0.7098, 0.6902, 0.6510, 0.6588,\n",
              "           0.3882, 0.2275, 0.0000, 0.0000],\n",
              "          [0.0000, 0.0000, 0.0000, 0.0000, 0.0000, 0.0000, 0.0000, 0.1569,\n",
              "           0.2392, 0.1725, 0.2824, 0.1608, 0.1373, 0.0000, 0.0000, 0.0000,\n",
              "           0.0000, 0.0000, 0.0000, 0.0000, 0.0000, 0.0000, 0.0000, 0.0000,\n",
              "           0.0000, 0.0000, 0.0000, 0.0000],\n",
              "          [0.0000, 0.0000, 0.0000, 0.0000, 0.0000, 0.0000, 0.0000, 0.0000,\n",
              "           0.0000, 0.0000, 0.0000, 0.0000, 0.0000, 0.0000, 0.0000, 0.0000,\n",
              "           0.0000, 0.0000, 0.0000, 0.0000, 0.0000, 0.0000, 0.0000, 0.0000,\n",
              "           0.0000, 0.0000, 0.0000, 0.0000],\n",
              "          [0.0000, 0.0000, 0.0000, 0.0000, 0.0000, 0.0000, 0.0000, 0.0000,\n",
              "           0.0000, 0.0000, 0.0000, 0.0000, 0.0000, 0.0000, 0.0000, 0.0000,\n",
              "           0.0000, 0.0000, 0.0000, 0.0000, 0.0000, 0.0000, 0.0000, 0.0000,\n",
              "           0.0000, 0.0000, 0.0000, 0.0000]]]),\n",
              " 9)"
            ]
          },
          "metadata": {},
          "execution_count": 123
        }
      ]
    },
    {
      "cell_type": "code",
      "source": [
        "# Labels\n",
        "class_names = train_data.classes\n",
        "class_names"
      ],
      "metadata": {
        "colab": {
          "base_uri": "https://localhost:8080/"
        },
        "id": "RZCIE_jH-xSg",
        "outputId": "84662f96-5201-482c-96ef-3af4350ea0b4"
      },
      "execution_count": null,
      "outputs": [
        {
          "output_type": "execute_result",
          "data": {
            "text/plain": [
              "['T-shirt/top',\n",
              " 'Trouser',\n",
              " 'Pullover',\n",
              " 'Dress',\n",
              " 'Coat',\n",
              " 'Sandal',\n",
              " 'Shirt',\n",
              " 'Sneaker',\n",
              " 'Bag',\n",
              " 'Ankle boot']"
            ]
          },
          "metadata": {},
          "execution_count": 124
        }
      ]
    },
    {
      "cell_type": "markdown",
      "source": [
        "The label 9 corresponds to an ankel boot"
      ],
      "metadata": {
        "id": "vFOC0dBN-4xp"
      }
    },
    {
      "cell_type": "code",
      "source": [
        "train_data.targets"
      ],
      "metadata": {
        "colab": {
          "base_uri": "https://localhost:8080/"
        },
        "id": "P1uUh-IL_k_1",
        "outputId": "cf0dac2d-d7dc-465c-fd04-881a5b264ef5"
      },
      "execution_count": null,
      "outputs": [
        {
          "output_type": "execute_result",
          "data": {
            "text/plain": [
              "tensor([9, 0, 0,  ..., 3, 0, 5])"
            ]
          },
          "metadata": {},
          "execution_count": 125
        }
      ]
    },
    {
      "cell_type": "markdown",
      "source": [
        "### **3.1.1 Input and Output Shapes**\n",
        "\n"
      ],
      "metadata": {
        "id": "Ks6sW9bF_N_D"
      }
    },
    {
      "cell_type": "code",
      "source": [
        "# Check shape of our image\n",
        "print(f\"Image shape: {image.shape} -> [color_channels, height, width]\")\n",
        "print(f\"Image lagbel: {class_names[label]}\")"
      ],
      "metadata": {
        "colab": {
          "base_uri": "https://localhost:8080/"
        },
        "id": "_mvH2EUe_oCO",
        "outputId": "b13e30b2-ea89-4be2-fa43-70fc5ed74710"
      },
      "execution_count": null,
      "outputs": [
        {
          "output_type": "stream",
          "name": "stdout",
          "text": [
            "Image shape: torch.Size([1, 28, 28]) -> [color_channels, height, width]\n",
            "Image lagbel: Ankle boot\n"
          ]
        }
      ]
    },
    {
      "cell_type": "markdown",
      "source": [
        "### 3.1.2 Visualize Data"
      ],
      "metadata": {
        "id": "k0wbCR7MAqL7"
      }
    },
    {
      "cell_type": "code",
      "source": [
        "import matplotlib.pyplot as plt\n",
        "image, label = train_data[0]\n",
        "print(f\"Image shape: {image.shape}\")\n",
        "plt.imshow(image.squeeze()) # squeeze to eliminate extra dimension\n",
        "plt.title(label);"
      ],
      "metadata": {
        "colab": {
          "base_uri": "https://localhost:8080/",
          "height": 470
        },
        "id": "ftQ8ckaxAwD9",
        "outputId": "ebf7c3b1-a07a-4604-cd41-d3825f513f94"
      },
      "execution_count": null,
      "outputs": [
        {
          "output_type": "stream",
          "name": "stdout",
          "text": [
            "Image shape: torch.Size([1, 28, 28])\n"
          ]
        },
        {
          "output_type": "display_data",
          "data": {
            "text/plain": [
              "<Figure size 640x480 with 1 Axes>"
            ],
            "image/png": "[encoded data removed]"
          },
          "metadata": {}
        }
      ]
    },
    {
      "cell_type": "code",
      "source": [
        "# Show image in true greyscale\n",
        "plt.imshow(image.squeeze(), cmap=\"gray\")\n",
        "plt.title(class_names[label]);\n",
        "plt.axis(False)"
      ],
      "metadata": {
        "colab": {
          "base_uri": "https://localhost:8080/",
          "height": 446
        },
        "id": "PhkdKTlJBM4G",
        "outputId": "624562e6-c584-4d9c-8486-e0c098d69c5d"
      },
      "execution_count": null,
      "outputs": [
        {
          "output_type": "execute_result",
          "data": {
            "text/plain": [
              "(-0.5, 27.5, 27.5, -0.5)"
            ]
          },
          "metadata": {},
          "execution_count": 128
        },
        {
          "output_type": "display_data",
          "data": {
            "text/plain": [
              "<Figure size 640x480 with 1 Axes>"
            ],
            "image/png": "[encoded data removed]"
          },
          "metadata": {}
        }
      ]
    },
    {
      "cell_type": "code",
      "source": [
        "# Plot more images\n",
        "torch.manual_seed(42)\n",
        "fig = plt.figure(figsize=(9, 9))\n",
        "rows, cols = 4, 4\n",
        "for i in range(1, rows * cols + 1):\n",
        "    random_idx = torch.randint(0, len(train_data), size=[1]).item()\n",
        "    img, label = train_data[random_idx]\n",
        "    fig.add_subplot(rows, cols, i)\n",
        "    plt.imshow(img.squeeze(), cmap=\"gray\")\n",
        "    plt.title(class_names[label])\n",
        "    plt.axis(False);"
      ],
      "metadata": {
        "colab": {
          "base_uri": "https://localhost:8080/",
          "height": 752
        },
        "id": "89QvSg9TBtJ5",
        "outputId": "ca460831-603a-4f4a-a1be-ec2767dbcc8b"
      },
      "execution_count": null,
      "outputs": [
        {
          "output_type": "display_data",
          "data": {
            "text/plain": [
              "<Figure size 900x900 with 16 Axes>"
            ],
            "image/png": "[encoded data removed]"
          },
          "metadata": {}
        }
      ]
    },
    {
      "cell_type": "markdown",
      "source": [
        "**Code Explaination:**\n",
        "\n",
        "| Line | Example Code | Explaination |\n",
        "|:---|:---|:---|\n",
        "|2|**`torch.manual_seed(42)`**|This line sets the random seed for PyTorch's random number generator to a fixed value (42 in this case). This is done<br> for reproducibility: code that uses random numbers will produce the same output every time it's run.|\n",
        "|3|**`fig = plt.figure(figsize=(9, 9))`**|This line creates a new figure with matplotlib (abbreviated as `plt`), with a size of 9 by 9 inches. This figure will be used<br> to display the grid of images.|\n",
        "|4|**`rows, cols = 4, 4`**|This line sets the number of rows and columns in the grid of images to 4.|\n",
        "|5|**`for i in range(1, rows * cols + 1):`**| This line starts a loop that will iterate through each cell of the grid. The `range()` function generates a sequence<br> of numbers from 1 to `rows * cols + 1` (which is 17), but as Python indexing starts from 0, the last index will be 16.|\n",
        "|6|**`random_idx = torch.randint(0, len(train_data), size=[1]).item()`**|This line generates a random integer between 0 and the length of `train_data`. This integer will be used as an index<br> to select a random image from the dataset. The `item()` method is used to get a Python number from a tensor.|\n",
        "|7|**`img, label = train_data[random_idx]`**|This line uses the random index to fetch the corresponding image and label from `train_data`.|\n",
        "|8|**`fig.add_subplot(rows, cols, i)`**| This line adds a subplot to the figure at the `i`th position in the grid. The grid is defined by `rows` and `cols`.|\n",
        "|9|**`plt.imshow(img.squeeze(), cmap=\"gray\")`**|This line displays the image in the current subplot. The `squeeze()` method is used to remove any unnecessary<br> dimensions from the image tensor  The `cmap=\"gray\"` argument sets the colormap to grayscale.|\n",
        "|10|**`plt.title(class_names[label])`**|This line sets the title of the current subplot to the class name corresponding to the label of the image.|\n",
        "|11|**`plt.axis(False)`**|This line hides the x and y axis in the current subplot.|"
      ],
      "metadata": {
        "id": "WJTz-T6cCG2E"
      }
    },
    {
      "cell_type": "markdown",
      "source": [
        "## **3.2 Prepare DataLoader**\n",
        "\n",
        "\n",
        "In PyTorch, a DataLoader is a utility that helps you manage datasets. It provides the ability to batch, shuffle and load data in parallel using multiprocessing.\n",
        "\n",
        "Here's why we would use a DataLoader:\n",
        "\n",
        "1. **Batch Processing**: A DataLoader enables automatic batching of data. When dealing with large datasets that cannot fit into memory, we need a way to feed the data to the model in smaller chunks (batches). DataLoader helps automate this process.\n",
        "\n",
        "2. **Data Shuffling**: DataLoader also has built-in functionality to shuffle the data, which is essential for training machine learning models effectively. Shuffling the data ensures that the model gets a mix of examples from the dataset, so it does not learn the order of the training data, which can lead to overfitting.\n",
        "\n",
        "3. **Parallel Loading**: DataLoader enables parallel loading of data onto the GPU (if available), utilizing multiprocessing. This is beneficial as it can significantly speed up the data loading step, which could otherwise be a bottleneck in the training process.\n",
        "\n",
        "4. **Custom Data Loading**: By implementing a custom subclass of torch.utils.data.Dataset, you can also have complex logic to load data, such as asynchronous computation for loading data, or loading data in a specific format.\n",
        "\n",
        "Overall, the use of DataLoader facilitates cleaner and more efficient code for managing and loading datasets in PyTorch. It takes care of a lot of the lower level details, allowing the user to focus on the main task at hand: creating and training a machine learning model.\n",
        "\n",
        "> **References:**\n",
        "* [**`torch.utils.data`**](https://pytorch.org/docs/stable/data.html)<br>\n",
        "* [**Torch Datasets and Dataloaders**](https://pytorch.org/tutorials/beginner/basics/data_tutorial.html)<br>\n",
        "\n",
        "\n",
        "\n",
        "\n"
      ],
      "metadata": {
        "id": "aKT5JnhYG7DX"
      }
    },
    {
      "cell_type": "code",
      "source": [
        "from torch.utils.data import DataLoader\n",
        "\n",
        "# Set batch size\n",
        "BATCH_SIZE = 32\n",
        "\n",
        "# Turn datasets into interables (batches)\n",
        "train_dataloader = DataLoader(dataset=train_data,\n",
        "                              batch_size=BATCH_SIZE,\n",
        "                              shuffle=True)\n",
        "\n",
        "test_dataloader = DataLoader(dataset=test_data,\n",
        "                              batch_size=BATCH_SIZE,\n",
        "                              shuffle=False)\n",
        "\n",
        "train_dataloader, test_dataloader"
      ],
      "metadata": {
        "colab": {
          "base_uri": "https://localhost:8080/"
        },
        "id": "veyNmaf_PWEg",
        "outputId": "9f2c58e7-7976-4871-9a9b-649377ad9660"
      },
      "execution_count": null,
      "outputs": [
        {
          "output_type": "execute_result",
          "data": {
            "text/plain": [
              "(<torch.utils.data.dataloader.DataLoader at 0x7fea8c9a08e0>,\n",
              " <torch.utils.data.dataloader.DataLoader at 0x7fea8cb69870>)"
            ]
          },
          "metadata": {},
          "execution_count": 130
        }
      ]
    },
    {
      "cell_type": "markdown",
      "source": [
        "**Code Explaination:**\n",
        "\n",
        "| Line | Example Code | Explaination |\n",
        "|:---|:---|:---|\n",
        "|1|**`from torch.utils.data import DataLoader`**|This line imports the `DataLoader` class from the `torch.utils.data` module. `DataLoader` is a utility class in PyTorch that helps<br> load datasets more conveniently.|\n",
        "|4|**`BATCH_SIZE = 32`**|This line sets a constant `BATCH_SIZE` with a value of 32. This will be used as the batch size for the DataLoader, determining how many<br> samples per batch to load.|\n",
        "|7-9|**`train_dataloader = DataLoader(dataset=train_data,`**<br> **`batch_size=BATCH_SIZE,`**<br> **`shuffle=True)`**|This line creates a `DataLoader` object from the `train_data` dataset with the batch size set to `BATCH_SIZE` (32). The `shuffle=True`<br> argument indicates that the data will be shuffled at every epoch before it is split into batches. This `DataLoader` object will yield<br> batches of training data.|\n",
        "|11-13|**`test_dataloader = DataLoader(dataset=test_data,`**<br> **`batch_size=BATCH_SIZE,`**<br> **`shuffle=False)`**|Similar to the previous line, but this line creates a `DataLoader` object for the test data. The `shuffle=False` argument indicates that the<br> data will not be shuffled before being split into batches. This `DataLoader` will yield batches of test data.|\n",
        "|15|**`train_dataloader, test_dataloader`**|This line just outputs the `train_dataloader` and `test_dataloader` objects.|\n"
      ],
      "metadata": {
        "id": "LSZn9qHJSdVS"
      }
    },
    {
      "cell_type": "code",
      "source": [
        "# View the batches\n",
        "print(f\"DataLoaders: {train_dataloader, test_dataloader}\")\n",
        "print(f\"Length of train_dataloader: {len(train_dataloader)} batches of {BATCH_SIZE}...\")\n",
        "print(f\"Length of test_dataloader: {len(test_dataloader)} batches of {BATCH_SIZE}...\")"
      ],
      "metadata": {
        "colab": {
          "base_uri": "https://localhost:8080/"
        },
        "id": "BSjNn0XDQWOl",
        "outputId": "d6aa6300-1843-412d-80bc-9bc4c205640d"
      },
      "execution_count": null,
      "outputs": [
        {
          "output_type": "stream",
          "name": "stdout",
          "text": [
            "DataLoaders: (<torch.utils.data.dataloader.DataLoader object at 0x7fea8c9a08e0>, <torch.utils.data.dataloader.DataLoader object at 0x7fea8cb69870>)\n",
            "Length of train_dataloader: 1875 batches of 32...\n",
            "Length of test_dataloader: 313 batches of 32...\n"
          ]
        }
      ]
    },
    {
      "cell_type": "code",
      "source": [
        "# Dataloader internals\n",
        "train_features_batch, train_labels_batch = next(iter(train_dataloader))\n",
        "train_features_batch.shape, train_labels_batch.shape"
      ],
      "metadata": {
        "colab": {
          "base_uri": "https://localhost:8080/"
        },
        "id": "OqBvnrOQWCsP",
        "outputId": "68f06339-a7ad-4b10-b2c9-443527402b0b"
      },
      "execution_count": null,
      "outputs": [
        {
          "output_type": "execute_result",
          "data": {
            "text/plain": [
              "(torch.Size([32, 1, 28, 28]), torch.Size([32]))"
            ]
          },
          "metadata": {},
          "execution_count": 132
        }
      ]
    },
    {
      "cell_type": "code",
      "source": [
        "# Show a sample\n",
        "torch.manual_seed(42)\n",
        "random_idx = torch.randint(0,len(train_features_batch), size=[1]).item()\n",
        "img, label = train_features_batch[random_idx], train_labels_batch[random_idx]\n",
        "plt.imshow(img.squeeze(), cmap=\"gray\")\n",
        "plt.title(class_names[label])\n",
        "plt.axis(False)\n",
        "print(f\"Image size: {img.shape}\")\n",
        "print(f\"Label: {label}, label size: {label.shape}\")"
      ],
      "metadata": {
        "colab": {
          "base_uri": "https://localhost:8080/",
          "height": 465
        },
        "id": "e9kmvQFsRV1T",
        "outputId": "474e0b25-ff88-4718-a897-4d83ef6cc3d0"
      },
      "execution_count": null,
      "outputs": [
        {
          "output_type": "stream",
          "name": "stdout",
          "text": [
            "Image size: torch.Size([1, 28, 28])\n",
            "Label: 6, label size: torch.Size([])\n"
          ]
        },
        {
          "output_type": "display_data",
          "data": {
            "text/plain": [
              "<Figure size 640x480 with 1 Axes>"
            ],
            "image/png": "[encoded data removed]"
          },
          "metadata": {}
        }
      ]
    },
    {
      "cell_type": "markdown",
      "source": [
        "**Code Explaination:**\n",
        "\n",
        "| Line | Example Code | Explaination |\n",
        "|:---|:---|:---|\n",
        "|2|torch.manual_seed(42)|This line sets the seed for generating random numbers to 42. It ensures that you get the same results every time<br> you run this code.|\n",
        "|3|random_idx = torch.randint(0,len(train_features_batch), size=[1]).item()|This line generates a random index between 0 and the length of the `train_features_batch` tensor. This index is<br> used to select a random image from the batch. The `item()` function is used to get a Python number from a tensor.|\n",
        "|4|img, label = train_features_batch[random_idx], train_labels_batch[random_idx]|This line uses the random index to select an image and its corresponding label from the batch.|\n",
        "|5|plt.imshow(img.squeeze(), cmap=\"gray\")|This line uses matplotlib's `imshow` function to display the selected image. The `squeeze()` function is used to<br> remove any singleton dimensions. If the image has dimensions (1, H, W), after `squeeze()` it will just be (H, W).<br> The colormap is set to grayscale.|\n",
        "|6|plt.title(class_names[label])| This line sets the title of the image plot to the class name of the image. `class_names` is assumed to be a list or<br> array where the index corresponds to the class name.|\n",
        "|7|plt.axis(False)|This line hides the axes of the plot.|\n",
        "|8|print(f\"Image size: {img.shape}\")| This line prints the shape of the image tensor, which represents its size.|\n",
        "|9|print(f\"Label: {label}, label size: {label.shape}\")|This line prints the label of the image and the shape of the label tensor. For classification problems, the label would<br> typically be a scalar, so its shape would be empty.|\n",
        "\n",
        "> `train_features_batch` and `train_labels_batch` represent a batch of images and their corresponding labels from the training dataset, and `class_names` is a list or array of class labels."
      ],
      "metadata": {
        "id": "EdV7jZXPXq8A"
      }
    },
    {
      "cell_type": "markdown",
      "source": [
        "## **3.3 Model 0: Baseline Model**\n",
        "\n",
        "When building a series of machine learning models, it's best practice to stqart with a **baseline model**.\n",
        "\n",
        "A **baseline model** in the context of machine learning is a relatively simple, initial model that you train on your data. The performance of this model serves as a comparison point or a \"baseline\" for all future models that you build.\n",
        "\n",
        "Start simply and add complexity when necessary."
      ],
      "metadata": {
        "id": "dGAZg6mLa7ij"
      }
    },
    {
      "cell_type": "code",
      "source": [
        "# Create a flatten layer\n",
        "flatten_model = nn.Flatten() # all nn modules function as a model (can do a forward pass)\n",
        "\n",
        "# Get a single sample\n",
        "x = train_features_batch[0]\n",
        "\n",
        "# Flatten the sample\n",
        "output = flatten_model(x) # perform forward pass\n",
        "\n",
        "# Print out what happened\n",
        "print(f\"Shape before flattening: {x.shape} -> [color_channels, height, width]\")\n",
        "print(f\"Shape after flattening: {output.shape} -> [color_channels, height*width]\")\n",
        "\n",
        "# Try uncommenting below and see what happens\n",
        "#print(x)\n",
        "#print(output)"
      ],
      "metadata": {
        "colab": {
          "base_uri": "https://localhost:8080/"
        },
        "id": "-BT0jBL3cj0U",
        "outputId": "f0671423-9c06-4c58-a44d-cb5ef19542cb"
      },
      "execution_count": null,
      "outputs": [
        {
          "output_type": "stream",
          "name": "stdout",
          "text": [
            "Shape before flattening: torch.Size([1, 28, 28]) -> [color_channels, height, width]\n",
            "Shape after flattening: torch.Size([1, 784]) -> [color_channels, height*width]\n"
          ]
        }
      ]
    },
    {
      "cell_type": "markdown",
      "source": [
        "**Code Explaination:**\n",
        "\n",
        "| Line | Example Code | Explaination |\n",
        "|:---|:---|:---|\n",
        "|2|**`flatten_model = nn.Flatten()`**| This line initializes an instance of the `nn.Flatten()` class from PyTorch's `torch.nn` module, which flattens a tensor by collapsing all of the dimensions except<br> for one into a single dimension. The resulting instance `flatten_model` acts as a model, which means it can accept input data and perform a forward pass.|\n",
        "|5|**`x = train_features_batch[0]`**| This line selects the first sample from the batch `train_features_batch` and assigns it to the variable `x`. This assumes `train_features_batch` contains a batch<br> of image data where the first dimension indexes the individual samples in the batch.|\n",
        "|8|**`output = flatten_model(x)`**|This line uses the flatten_model to perform a forward pass on the sample x, effectively flattening the image. The resulting tensor output is a one-dimensional<br> tensor.|\n"
      ],
      "metadata": {
        "id": "aZfd7UIKcyVu"
      }
    },
    {
      "cell_type": "markdown",
      "source": [
        "**Review of Layers:**\n",
        "\n",
        "In the context of neural networks and deep learning, a \"layer\" refers to a collection of neurons that process a portion of the network's input.\n",
        "\n",
        "Here are the main types of layers in a neural network:\n",
        "\n",
        "1. **Input Layer**: The input layer is where the network receives input from your dataset. It is typically a passive layer, meaning the neurons do not modify the data. They just pass it to the next layer.\n",
        "\n",
        "2. **Hidden Layers**: Hidden layers are layers between the input and output layers. In a deep neural network, there are multiple hidden layers. Each hidden layer is typically fully connected to the preceding and subsequent layers. These layers apply transformations to the inputs received from the previous layers, performing the bulk of the computation required by the model.\n",
        "\n",
        "3. **Output Layer**: The output layer produces the final predictions of the network. It's usually fully connected to the last hidden layer. The neurons in this layer often apply a function (such as softmax) to ensure that the outputs are in a suitable format for the problem at hand (e.g., probabilities summing to 1 for a classification problem).\n",
        "\n",
        "Each layer in a neural network usually involves two primary components:\n",
        "\n",
        "1. **Linear Transformation**: This is the weighted sum of inputs, using the weights and biases of connections coming into the neurons in the layer.\n",
        "\n",
        "2. **Activation Function**: This function is applied to the result of the linear transformation, allowing for non-linearity in the model. Examples of activation functions include ReLU, sigmoid, and tanh.\n",
        "\n",
        "Complex neural networks might include additional types of layers like convolutional layers (used for image processing in Convolutional Neural Networks, CNNs)."
      ],
      "metadata": {
        "id": "v8zK9AeM5e-Z"
      }
    },
    {
      "cell_type": "markdown",
      "source": [
        "Next, we will construct **Model_0**, our **baseline model**. It will contain two `nn.Linear()` layers and one `nn.Flatten()` (input) layer. "
      ],
      "metadata": {
        "id": "SSHPC96E7ip1"
      }
    },
    {
      "cell_type": "code",
      "source": [
        "from torch import nn\n",
        "class FashionMNISTModelV0(nn.Module):\n",
        "    def __init__(self, input_shape: int, hidden_units: int, output_shape: int):\n",
        "        super().__init__()\n",
        "        self.layer_stack = nn.Sequential(\n",
        "            nn.Flatten(), # neural networks like their inputs in vector form\n",
        "            nn.Linear(in_features=input_shape, out_features=hidden_units), # in_features = number of features in a data sample (784 pixels)\n",
        "            nn.Linear(in_features=hidden_units, out_features=output_shape)\n",
        "        )\n",
        "    \n",
        "    def forward(self, x):\n",
        "        return self.layer_stack(x)"
      ],
      "metadata": {
        "id": "Hf1Wtevh5iQ_"
      },
      "execution_count": null,
      "outputs": []
    },
    {
      "cell_type": "markdown",
      "source": [
        "**Code Explaination:**\n",
        "\n",
        "| Line | Example Code | Explaination |\n",
        "|:---|:---|:---|\n",
        "|1|**`from torch import nn`**|This line *imports* PyTorch's neural network module `nn`. This module contains various classes and functions<br> that are used for building neural networks.|\n",
        "|2|**`class FashionMNISTModelV0(nn.Module):`**| This line defines a new class `FashionMNISTModelV0` that inherits from the `nn.Module` base class. In<br> PyTorch, all neural network modules should also subclass this class.|\n",
        "|3|**`def __init__(self, input_shape: int, hidden_units: int, output_shape: int):`**|This line defines the initializer function for the class. This function is called when an object of the class is<br> created. The initializer takes three arguments: the number of input features (`input_shape`), the number of<br> hidden units (`hidden_units`), and the number of output features (`output_shape`).|\n",
        "|4|**`super().__init__()`**|This line calls the initializer of the base class `nn.Module`. This is necessary to correctly set up the internals<br> of the class.|\n",
        "|5|**`self.layer_stack = nn.Sequential(...`**|This line creates an attribute `layer_stack` that represents the sequence of layers in the neural network. The<br> `nn.Sequential` class is a container for modules that should be added to the network in the order they are<br> passed in.|\n",
        "|6|**`nn.Flatten()`**|This is the first layer of the network, which will flatten each input image into a 1D tensor.|\n",
        "|7|**`nn.Linear(in_features=input_shape, out_features=hidden_units)`**|This is the second layer of the network, a fully-connected (or linear) layer with `input_shape` inputs and<br> `hidden_units` outputs.|\n",
        "|8|**`nn.Linear(in_features=hidden_units, out_features=output_shape)`**|This is the third and final layer of the network, another fully-connected layer with `hidden_units` inputs and<br> `output_shape` outputs.|\n",
        "|11|**`def forward(self, x):`**|This function defines the forward pass of the network. In PyTorch, you have to define a forward method<br> in your custom module that takes an input tensor and produces the output tensor.|\n",
        "|12|**`return self.layer_stack(x)`**|This line passes the input x through the layer_stack attribute (which represents the sequence of layers)<br> and returns the output.|"
      ],
      "metadata": {
        "id": "ObqRKUCn8NAI"
      }
    },
    {
      "cell_type": "code",
      "source": [
        "torch.manual_seed(42)\n",
        "\n",
        "# Setup model with input parameters\n",
        "model_0 = FashionMNISTModelV0(\n",
        "    input_shape=784, # 28 by 28\n",
        "    hidden_units=10, # units in the hidden layer\n",
        "    output_shape=len(class_names) # one for every class\n",
        ").to(\"cpu\")\n",
        "\n",
        "model_0"
      ],
      "metadata": {
        "colab": {
          "base_uri": "https://localhost:8080/"
        },
        "id": "Hnreu8J0RQlT",
        "outputId": "0179f8ff-e4bb-47cf-bcc9-e040a3625014"
      },
      "execution_count": null,
      "outputs": [
        {
          "output_type": "execute_result",
          "data": {
            "text/plain": [
              "FashionMNISTModelV0(\n",
              "  (layer_stack): Sequential(\n",
              "    (0): Flatten(start_dim=1, end_dim=-1)\n",
              "    (1): Linear(in_features=784, out_features=10, bias=True)\n",
              "    (2): Linear(in_features=10, out_features=10, bias=True)\n",
              "  )\n",
              ")"
            ]
          },
          "metadata": {},
          "execution_count": 136
        }
      ]
    },
    {
      "cell_type": "markdown",
      "source": [
        "**Code Explaination:**\n",
        "\n",
        "| Line | Example Code | Explaination |\n",
        "|:---|:---|:---|\n",
        "|4|**`model_0 = FashionMNISTModelV0(`**|This line initializes a new instance of the `FashionMNISTModelV0` class, which represents a neural network model. The instance is assigned to the variable<br> `model_0`.|\n",
        "|5|**`input_shape=784,`**|This sets the number of input units for the model. The FashionMNIST images are 28x28 pixels, so they are flattened into 1D vectors of length 784.|\n",
        "|6|**`hidden_units=10,`**|his sets the number of units in the hidden layer of the model to 10.|\n",
        "|7|**`output_shape=len(class_names)`**|This sets the number of output units for the model. There should be one output unit for each class in the data. The number of classes is determined by the<br> length of the `class_names` list.|\n",
        "|8|**`).to(\"cpu\")`**|This assings the model to the cpu|"
      ],
      "metadata": {
        "id": "p-NSlhsGTWfw"
      }
    },
    {
      "cell_type": "markdown",
      "source": [
        "> Note: Here we must pay close attention to tensor size/shape. On the most common errors that we face at this stage of the model is the tensor shape mismatch. "
      ],
      "metadata": {
        "id": "R7GSMvVdWC5o"
      }
    },
    {
      "cell_type": "code",
      "source": [
        "dummy_x = torch.rand([1, 1, 28, 28])\n",
        "model_0(dummy_x).shape"
      ],
      "metadata": {
        "colab": {
          "base_uri": "https://localhost:8080/"
        },
        "id": "jCxKS0VRVVCT",
        "outputId": "0f7acaf2-7df8-4918-bc4c-e792212cba32"
      },
      "execution_count": null,
      "outputs": [
        {
          "output_type": "execute_result",
          "data": {
            "text/plain": [
              "torch.Size([1, 10])"
            ]
          },
          "metadata": {},
          "execution_count": 137
        }
      ]
    },
    {
      "cell_type": "markdown",
      "source": [
        "### 3.3.1 **Loss Function, Optimizer, and Evaluation Metrics**\n",
        "\n",
        "* Loss Function: working with multi-class data we choose the loss function to be `nn.CrossEntropyLoss()`\n",
        "* Optimizer: `torch.optim.SGD` (stochastic gradient descent)\n",
        "* Evaluation metric: since this is a classification problem, accuracy is chosen as the evaluation metric."
      ],
      "metadata": {
        "id": "ZH3xnlIUWwu0"
      }
    },
    {
      "cell_type": "code",
      "source": [
        "import requests\n",
        "from pathlib import Path \n",
        "\n",
        "# Download helper functions from Learn PyTorch repo (if not already downloaded)\n",
        "if Path(\"helper_functions.py\").is_file():\n",
        "  print(\"helper_functions.py already exists, skipping download\")\n",
        "else:\n",
        "  print(\"Downloading helper_functions.py\")\n",
        "  # Note: you need the \"raw\" GitHub URL for this to work\n",
        "  request = requests.get(\"https://raw.githubusercontent.com/mrdbourke/pytorch-deep-learning/main/helper_functions.py\")\n",
        "  with open(\"helper_functions.py\", \"wb\") as f:\n",
        "    f.write(request.content)"
      ],
      "metadata": {
        "colab": {
          "base_uri": "https://localhost:8080/"
        },
        "id": "m7V2byXHXkXo",
        "outputId": "ee64b4e9-076f-4776-a69d-7d1f69550f81"
      },
      "execution_count": null,
      "outputs": [
        {
          "output_type": "stream",
          "name": "stdout",
          "text": [
            "helper_functions.py already exists, skipping download\n"
          ]
        }
      ]
    },
    {
      "cell_type": "markdown",
      "source": [
        "First, we download the helper functions established in the previous module. This gives access to the predefined accuracy function (`accuracy_fn`). See Module 02 for code explaination for this block. "
      ],
      "metadata": {
        "id": "8DskJ9FtX_bg"
      }
    },
    {
      "cell_type": "code",
      "source": [
        "# Import accuracy_fn\n",
        "from helper_functions import accuracy_fn\n",
        "\n",
        "# Setup loss function and optimizer\n",
        "loss_fn = nn.CrossEntropyLoss() \n",
        "optimizer = torch.optim.SGD(params=model_0.parameters(), lr=0.1)"
      ],
      "metadata": {
        "id": "5S-kdOkEYW9F"
      },
      "execution_count": null,
      "outputs": []
    },
    {
      "cell_type": "markdown",
      "source": [
        "These lines have all been explained previously. We are just setting up `nn.CrossEntropyLoss()` as our **loss function**, `torch.optim.SGD` as our **optimizer**, and `accuracy_fn` as our **evaluation metric**. "
      ],
      "metadata": {
        "id": "u93idqznY6gW"
      }
    },
    {
      "cell_type": "markdown",
      "source": [
        "### **3.3.2 Timing Fucntion**\n",
        "\n",
        "Here we create a timing function in order to test the differnece between running the model on the CPU vs the GPU. The timing function will import the [**`timeit.default_timer()`**](https://docs.python.org/3/library/timeit.html#timeit.default_timer) **function** from the Python [**`timeit`**](https://docs.python.org/3/library/timeit.html) **module**.\n",
        "\n",
        "The following code defines a Python function `print_train_time()` that calculates the difference between two timepoints, marking the start and end of a model training process, and prints the resulting training duration."
      ],
      "metadata": {
        "id": "oiubcUagZ_q0"
      }
    },
    {
      "cell_type": "code",
      "source": [
        "from timeit import default_timer as timer \n",
        "def print_train_time(start: float, end: float, device: torch.device = None):\n",
        "    \"\"\"Prints difference between start and end time.\n",
        "\n",
        "    Args:\n",
        "        start (float): Start time of computation. \n",
        "        end (float): End time of computation.\n",
        "        device ([type], optional): Device that compute is running on. Defaults to None.\n",
        "\n",
        "    Returns:\n",
        "        float: time between start and end in seconds.\n",
        "    \"\"\"\n",
        "    total_time = end - start\n",
        "    print(f\"Train time on {device}: {total_time:.3f} seconds\")\n",
        "    return total_time"
      ],
      "metadata": {
        "id": "dznZqTSnZtnN"
      },
      "execution_count": null,
      "outputs": []
    },
    {
      "cell_type": "markdown",
      "source": [
        "**Code Explaination:**\n",
        "\n",
        "| Line | Example Code | Explaination |\n",
        "|:---|:---|:---|\n",
        "|1|**`from timeit import default_timer as timer`**|The `timeit` module provides a simple way to time small bits of Python code. Here, `default_timer` is<br> imported with the name timer for use in the code.|\n",
        "|2|**`def print_train_time(start: float, end: float, device: torch.device = None):`**|This defines a function `print_train_time` which takes three arguments: two floats `start` and `end`,<br> representing start and end timepoints, and `device` (defaulting to `None`), which is intended to represent<br> the device on which the training was performed |\n",
        "|13|**`total_time = end - start`**|This line computes the difference between the end and start times to get the total time taken.|\n",
        "|14|**`print(f\"Train time on {device}: {total_time:.3f} seconds\"):`**|print statement|\n",
        "|15|**`return total_time`**|function returns total time|"
      ],
      "metadata": {
        "id": "NOXG9TKrhMGx"
      }
    },
    {
      "cell_type": "code",
      "source": [
        "# example of how timing function works\n",
        "start_time = timer()\n",
        "# Some code...\n",
        "end_time = timer()\n",
        "print_train_time(start=start_time, end=end_time, device=\"cpu\")"
      ],
      "metadata": {
        "colab": {
          "base_uri": "https://localhost:8080/"
        },
        "id": "nk4apWYMdM-X",
        "outputId": "5ddc9221-7975-431a-edaf-41f315491398"
      },
      "execution_count": null,
      "outputs": [
        {
          "output_type": "stream",
          "name": "stdout",
          "text": [
            "Train time on cpu: 0.000 seconds\n"
          ]
        },
        {
          "output_type": "execute_result",
          "data": {
            "text/plain": [
              "6.0581998695852235e-05"
            ]
          },
          "metadata": {},
          "execution_count": 141
        }
      ]
    },
    {
      "cell_type": "markdown",
      "source": [
        "### **3.3.3 Training Loop**\n",
        "\n",
        "And traing the model on 'batches' of data. Since we are now using batches this will be slightly different from previous training loops. The steps are: \n",
        "\n",
        "1. Loop through epochs.\n",
        "2. Loop through training batches, perform training steps, calculate the train loss per batch.\n",
        "3. Loop through testing batches, perform testing steps, calculate the test loss per batch.\n",
        "4. Print statement.\n",
        "5. Time it all (for fun).\n",
        "\n",
        "For the progress bar we will use tqdm\n",
        "\n",
        "> **References:**\n",
        "* [tqdm Github](https://github.com/tqdm/tqdm)"
      ],
      "metadata": {
        "id": "bjjRD92XeDYc"
      }
    },
    {
      "cell_type": "code",
      "source": [
        "# Import tqdm for progress bar\n",
        "from tqdm.auto import tqdm\n",
        "\n",
        "# Set random seed and start timer\n",
        "torch.manual_seed(42)\n",
        "train_time_start_on_cpu = timer()\n",
        "\n",
        "# Set the number of epochs (small for faster training time)\n",
        "epochs = 3\n",
        "\n",
        "# Training and Test Loop\n",
        "for epoch in tqdm(range(epochs)):\n",
        "  print(f\"Epoch: {epoch}\\n------\")\n",
        "  ### Training\n",
        "  train_loss = 0\n",
        "  # Add a loop to loop through the training batches\n",
        "  for batch, (X,y) in enumerate(train_dataloader):\n",
        "    model_0.train()\n",
        "    # 1 Forward Pass\n",
        "    y_pred = model_0(X)\n",
        "\n",
        "    # 2 Calculate Loss (per batch)\n",
        "    loss = loss_fn(y_pred, y)\n",
        "    train_loss += loss # accumulate train loss of each batch\n",
        "\n",
        "    # 3 Optimizer Zero Grad\n",
        "    optimizer.zero_grad()\n",
        "\n",
        "    # 4. Loss backward\n",
        "    loss.backward()\n",
        "\n",
        "    # 5. Optimizer step\n",
        "    optimizer.step()\n",
        "\n",
        "    # Print out how many samples have been seen\n",
        "    if batch % 400 == 0:  # print every 400 batches\n",
        "      print(f\"Looked at {batch * len(X)}/{len(train_dataloader.dataset)} samples\")\n",
        "\n",
        "  # Divide total train loss by length of train dataloader (average loss per batch per epoch)\n",
        "  train_loss /= len(train_dataloader)\n",
        "\n",
        "  ### Testing\n",
        "  # Setup variables for accumulatively adding up loss and accuracy \n",
        "  test_loss, test_acc = 0, 0 \n",
        "  model_0.eval()\n",
        "  with torch.inference_mode():\n",
        "    for X_test, y_test in test_dataloader:\n",
        "      # 1 Forward Pass\n",
        "      test_pred = model_0(X_test)\n",
        "\n",
        "      # 2 Calculate Loss (cummulative)\n",
        "      test_loss += loss_fn(test_pred, y_test)\n",
        "\n",
        "      # 3 Calculate Accuracy\n",
        "      test_acc += accuracy_fn(y_true=y_test, y_pred=test_pred.argmax(dim=1))\n",
        "\n",
        "    # Calculate test loss avg per batch\n",
        "    test_loss /= len(test_dataloader) \n",
        "\n",
        "    # Calculate tess acc avg per batch\n",
        "    test_acc /= len(test_dataloader)\n",
        "\n",
        "  # Print Statement\n",
        "  print(f\"\\nTrain loss: {train_loss:.5f} | Test loss: {test_loss:.5f}, Test acc: {test_acc:.2f}%\\n\")\n",
        "\n",
        "# Calculate training time      \n",
        "train_time_end_on_cpu = timer()\n",
        "total_train_time_model_0 = print_train_time(start=train_time_start_on_cpu, \n",
        "                                           end=train_time_end_on_cpu,\n",
        "                                           device=str(next(model_0.parameters()).device))"
      ],
      "metadata": {
        "colab": {
          "base_uri": "https://localhost:8080/",
          "height": 621,
          "referenced_widgets": [
            "00198204a4704deea81f21affc469eda",
            "837a507dfd334fb7a8b5cddba85f3257",
            "5627fc99c961454bb5b6dd67f4ff094f",
            "9c89611530fb4c90bb00a8c50d5d75b0",
            "2c0dd79e2d1a4f03b94d2c9b88997ddf",
            "c365b606233c49c5ae13bd70d7c77d69",
            "0fbf239b80794433b74facb7894f05db",
            "6a7b092d179b441c97c600ca96cfea61",
            "efa5a9519be4486795031c836c5436e3",
            "9d3fc9793f6f48a7a1c5fceb76fdeed9",
            "fc0e6ce243de407ebe46d637bbeb0451"
          ]
        },
        "id": "Hf79bXeNgDpw",
        "outputId": "0ca7dbcd-f2d1-4be5-90bc-b00f7f73b168"
      },
      "execution_count": null,
      "outputs": [
        {
          "output_type": "display_data",
          "data": {
            "text/plain": [
              "  0%|          | 0/3 [00:00<?, ?it/s]"
            ],
            "application/vnd.jupyter.widget-view+json": {
              "version_major": 2,
              "version_minor": 0,
              "model_id": "00198204a4704deea81f21affc469eda"
            }
          },
          "metadata": {}
        },
        {
          "output_type": "stream",
          "name": "stdout",
          "text": [
            "Epoch: 0\n",
            "------\n",
            "Looked at 0/60000 samples\n",
            "Looked at 12800/60000 samples\n",
            "Looked at 25600/60000 samples\n",
            "Looked at 38400/60000 samples\n",
            "Looked at 51200/60000 samples\n",
            "\n",
            "Train loss: 0.59039 | Test loss: 0.50954, Test acc: 82.04%\n",
            "\n",
            "Epoch: 1\n",
            "------\n",
            "Looked at 0/60000 samples\n",
            "Looked at 12800/60000 samples\n",
            "Looked at 25600/60000 samples\n",
            "Looked at 38400/60000 samples\n",
            "Looked at 51200/60000 samples\n",
            "\n",
            "Train loss: 0.47633 | Test loss: 0.47989, Test acc: 83.20%\n",
            "\n",
            "Epoch: 2\n",
            "------\n",
            "Looked at 0/60000 samples\n",
            "Looked at 12800/60000 samples\n",
            "Looked at 25600/60000 samples\n",
            "Looked at 38400/60000 samples\n",
            "Looked at 51200/60000 samples\n",
            "\n",
            "Train loss: 0.45503 | Test loss: 0.47664, Test acc: 83.43%\n",
            "\n",
            "Train time on cpu: 39.647 seconds\n"
          ]
        }
      ]
    },
    {
      "cell_type": "markdown",
      "source": [
        "> Since, most of the lines in the training loop have been explained previously, we will only examine and explain the critical lines, those which are new or different.\n",
        "\n",
        "**Code Explaination:**\n",
        "\n",
        "| Line | Example Code | Explaination |\n",
        "|:---|:---|:---|\n",
        "|5|**`for epoch in tqdm(range(epochs)):`** | The standard training loop except the `tqdm()` function is used to display a progress bar.|\n",
        "|17|**`for batch, (X,y) in enumerate(train_dataloader)`**:|The `enumerate()` function is used to create an enumerated object from `train_dataloader`. `train_dataloader` is an iterable that loads<br> the training data in batches. `batch` is the count of the current batch. `(X, y)` is a tuple representing the features (`X`) and labels (`y`) of<br> the data samples in the current batch. `X` will contain the features for each sample in the batch, and `y` will contain the corresponding<br> labels. |\n",
        "|24|**`train_loss += loss`**|Accumulating the training loss for each batch|\n",
        "|40|**`train_loss /= len(train_dataloader)`**|Calculating the average training loss per batch.|\n",
        "\n",
        "> Note: `test_loss` and `test_acc` are calculated cummulatively similar to `train_loss`. `test_dataloader` is used to derive the average training loss and accuracy per batch. \n",
        "\n"
      ],
      "metadata": {
        "id": "AU0-tAZrm7yg"
      }
    },
    {
      "cell_type": "markdown",
      "source": [
        "## **3.4 Make Predictions and get Model_0 Results**\n",
        "\n",
        "Now that we have completed model_0 we will continue on to build never versions of the model in order to improve it. To make this process easier we write an evaluation function in order to eliminate rewriting the same code in each new model. "
      ],
      "metadata": {
        "id": "ENHOXxQoTcKD"
      }
    },
    {
      "cell_type": "code",
      "source": [
        "torch.manual_seed(42)\n",
        "def eval_model(model: torch.nn.Module,\n",
        "               data_loader: torch.utils.data.DataLoader,\n",
        "               loss_fn: torch.nn.Module,\n",
        "               accuracy_fn):\n",
        "  \"\"\"Returns a dictionary containing the results of model predicting on data_loader.\n",
        "\n",
        "    Args:\n",
        "        model -> (torch.nn.Module):  A PyTorch Module that represents the machine learning model to be evaluated.\n",
        "        data_loader -> (torch.utils.data.DataLoader): A PyTorch DataLoader object that represents the dataset on \n",
        "        which the model is to be evaluated.\n",
        "        loss_fn -> (torch.nn.Module): A PyTorch Module that is a loss function. The loss function calculates how\n",
        "        far the model's predictions are from the true values.\n",
        "        accuracy_fn: A function to calculate accuracy. This is not a built-in PyTorch function but would be a \n",
        "        user-defined function that calculates accuracy given model predictions and true values.\n",
        "\n",
        "    Returns:\n",
        "        (dict): Results of model making predictions on data_loader.\n",
        "  \"\"\"\n",
        "  loss, acc = 0, 0\n",
        "  model.eval()\n",
        "  with torch.inference_mode():\n",
        "    for X, y in tqdm(data_loader):\n",
        "      # Make predictions\n",
        "      y_pred = model(X)\n",
        "\n",
        "      # Accumulate the loss and acc values per batch\n",
        "      loss += loss_fn(y_pred, y)\n",
        "      acc += accuracy_fn(y_true=y,\n",
        "                         y_pred = y_pred.argmax(dim=1))\n",
        "      \n",
        "    # Scale loss and acc to find average per batch\n",
        "    loss /= len(data_loader)\n",
        "    acc /= len(data_loader)\n",
        "\n",
        "  return {\"model_name\": model.__class__.__name__, # only works when model was created with a class\n",
        "          \"model_loss\": loss.item(),\n",
        "          \"model_acc\": acc}\n",
        "\n",
        "# Calculate model 0 results on test dataset\n",
        "model_0_results = eval_model(model=model_0,\n",
        "                             data_loader=test_dataloader,\n",
        "                             loss_fn=loss_fn,\n",
        "                             accuracy_fn=accuracy_fn)\n",
        "model_0_results"
      ],
      "metadata": {
        "colab": {
          "base_uri": "https://localhost:8080/",
          "height": 104,
          "referenced_widgets": [
            "d13c141e6a4446c287e75712a30c8aa2",
            "90f54ccfe3a44fc097f5f7ea99b67d8c",
            "3c09daa694f847fd895f5294240425fe",
            "d9068618357f40eb8f076673d85b612a",
            "968e94e23a574bd3920b03488f9e26b2",
            "c467ff9bfd654d3bb090c4d78bcb3279",
            "7b8cf044d2f5424a9b8df9bebe4da471",
            "d4d155a1915d4fb68f7df9df2ce08a79",
            "af368214696845949bdfe3f759b3cc8a",
            "eb653ae92d1b4ec8a5920f7f4b21f5b3",
            "819166b3aadb4a1aba915deed97d8820"
          ]
        },
        "id": "bZ_tK-v9UKzf",
        "outputId": "272e0ef7-aa09-43c5-915c-75e8d6fa50f9"
      },
      "execution_count": null,
      "outputs": [
        {
          "output_type": "display_data",
          "data": {
            "text/plain": [
              "  0%|          | 0/313 [00:00<?, ?it/s]"
            ],
            "application/vnd.jupyter.widget-view+json": {
              "version_major": 2,
              "version_minor": 0,
              "model_id": "d13c141e6a4446c287e75712a30c8aa2"
            }
          },
          "metadata": {}
        },
        {
          "output_type": "execute_result",
          "data": {
            "text/plain": [
              "{'model_name': 'FashionMNISTModelV0',\n",
              " 'model_loss': 0.47663894295692444,\n",
              " 'model_acc': 83.42651757188499}"
            ]
          },
          "metadata": {},
          "execution_count": 143
        }
      ]
    },
    {
      "cell_type": "markdown",
      "source": [
        "**Code Explaination (critical/ new lines):**\n",
        "\n",
        "| Line | Example Code | Explaination |\n",
        "|:---|:---|:---|\n",
        "|2 - 5|**`def eval_model(model: torch.nn.Module,`**<br> **`data_loader: torch.utils.data.DataLoader,`**<br> **`loss_fn: torch.nn.Module,`**<br> **`accuracy_fn):`**|This line defines the function `eval_model` with four parameters: the model to evaluate, the DataLoader containing the data on which to evaluate<br> the model, the loss function, and the function to calculate accuracy.|\n",
        "|36 - 38|**`return {\"model_name\": model.__class__.__name__,`**<br> **`\"model_loss\": loss.item(),`**<br> **`\"model_acc\": acc}`**|This line creates a dictionary containing the model name, average loss, and average accuracy, and returns it.|\n",
        "|41 - 44|**`return {\"model_name\": model.__class__.__name__,`**<br> **`\"model_loss\": loss.item(),`**<br> **`\"model_acc\": acc}`**|This line of code returns a dictionary containing the name of the model, the average loss of the model on the data, and the average<br> accuracy of the model on the data.|\n"
      ],
      "metadata": {
        "id": "RDD2CwwSZlH2"
      }
    },
    {
      "cell_type": "markdown",
      "source": [
        "We can use this dictionary to compare the baseline model results to other models later on."
      ],
      "metadata": {
        "id": "HbHXxtP0hbOd"
      }
    },
    {
      "cell_type": "markdown",
      "source": [
        "## **3.5 Device Agnostic-Code**\n",
        "\n"
      ],
      "metadata": {
        "id": "AJSsnkzehdiV"
      }
    },
    {
      "cell_type": "code",
      "source": [
        "# Setup device agnostic code\n",
        "import torch\n",
        "device = \"cuda\" if torch.cuda.is_available() else \"cpu\"\n",
        "device"
      ],
      "metadata": {
        "colab": {
          "base_uri": "https://localhost:8080/",
          "height": 36
        },
        "id": "d8U7fpViiF3h",
        "outputId": "77f1b8f3-f2f6-43e7-bdd4-27b87c2ecba5"
      },
      "execution_count": null,
      "outputs": [
        {
          "output_type": "execute_result",
          "data": {
            "text/plain": [
              "'cuda'"
            ],
            "application/vnd.google.colaboratory.intrinsic+json": {
              "type": "string"
            }
          },
          "metadata": {},
          "execution_count": 144
        }
      ]
    },
    {
      "cell_type": "code",
      "source": [
        "!nvidia-smi"
      ],
      "metadata": {
        "colab": {
          "base_uri": "https://localhost:8080/"
        },
        "id": "l5cDfc8rkfHv",
        "outputId": "1838f06e-1384-4790-bb8e-e074ab8a7a9e"
      },
      "execution_count": null,
      "outputs": [
        {
          "output_type": "stream",
          "name": "stdout",
          "text": [
            "Mon Jun  5 17:43:03 2023       \n",
            "+-----------------------------------------------------------------------------+\n",
            "| NVIDIA-SMI 525.85.12    Driver Version: 525.85.12    CUDA Version: 12.0     |\n",
            "|-------------------------------+----------------------+----------------------+\n",
            "| GPU  Name        Persistence-M| Bus-Id        Disp.A | Volatile Uncorr. ECC |\n",
            "| Fan  Temp  Perf  Pwr:Usage/Cap|         Memory-Usage | GPU-Util  Compute M. |\n",
            "|                               |                      |               MIG M. |\n",
            "|===============================+======================+======================|\n",
            "|   0  Tesla T4            Off  | 00000000:00:04.0 Off |                    0 |\n",
            "| N/A   77C    P0    33W /  70W |   1129MiB / 15360MiB |      0%      Default |\n",
            "|                               |                      |                  N/A |\n",
            "+-------------------------------+----------------------+----------------------+\n",
            "                                                                               \n",
            "+-----------------------------------------------------------------------------+\n",
            "| Processes:                                                                  |\n",
            "|  GPU   GI   CI        PID   Type   Process name                  GPU Memory |\n",
            "|        ID   ID                                                   Usage      |\n",
            "|=============================================================================|\n",
            "+-----------------------------------------------------------------------------+\n"
          ]
        }
      ]
    },
    {
      "cell_type": "code",
      "source": [
        "torch.cuda.is_available()"
      ],
      "metadata": {
        "colab": {
          "base_uri": "https://localhost:8080/"
        },
        "id": "rreV255bkigP",
        "outputId": "b69ac885-f39c-4cc4-a333-acafd7c033e0"
      },
      "execution_count": null,
      "outputs": [
        {
          "output_type": "execute_result",
          "data": {
            "text/plain": [
              "True"
            ]
          },
          "metadata": {},
          "execution_count": 146
        }
      ]
    },
    {
      "cell_type": "markdown",
      "source": [
        "## **3.6 Model 1: Non-Linear Model**\n",
        "\n",
        "Next, we build a new model (Model_1) to try and improve on the base model. The new model will be built with non-linearity. We learned non-linearity in module 02. \n",
        "\n",
        "> **Review References:**<br>\n",
        " [Non-linearity](https://www.learnpytorch.io/02_pytorch_classification/#6-the-missing-piece-non-linearity)<br>\n",
        " [**`nn.Sequential`**](https://pytorch.org/docs/stable/generated/torch.nn.Sequential.html)<br>\n",
        " [**`nn.Flatten`**](https://pytorch.org/docs/stable/generated/torch.nn.Flatten.html)<br>\n",
        " [**`nn.Linear`**](https://pytorch.org/docs/stable/generated/torch.nn.Linear.html)<br>\n",
        " [**`nn.ReLU`**](https://pytorch.org/docs/stable/generated/torch.nn.ReLU.html)\n",
        "\n"
      ],
      "metadata": {
        "id": "l10mOIt9lGiK"
      }
    },
    {
      "cell_type": "code",
      "source": [
        "import torch\n",
        "import torch.nn as nn\n",
        "\n",
        "# Create a model with non-linear and linear layers\n",
        "class FashionMNISTModelV1(nn.Module):\n",
        "    def __init__(self, input_shape: int, hidden_units: int, output_shape: int):\n",
        "        \"\"\"\n",
        "        Constructs the FashionMNISTModelV1 class.\n",
        "\n",
        "        Args:\n",
        "            input_shape (int): The shape of the input tensor.\n",
        "            hidden_units (int): The number of units in the hidden layer.\n",
        "            output_shape (int): The shape of the output tensor.\n",
        "        \"\"\"\n",
        "        super().__init__()\n",
        "\n",
        "        # Define the layer stack\n",
        "        self.layer_stack = nn.Sequential(\n",
        "            nn.Flatten(),\n",
        "            nn.Linear(in_features=input_shape, out_features=hidden_units),\n",
        "            nn.ReLU(),\n",
        "            nn.Linear(in_features=hidden_units, out_features=output_shape),\n",
        "            nn.ReLU()\n",
        "        )\n",
        "\n",
        "    def forward(self, x: torch.Tensor) -> torch.Tensor:\n",
        "        \"\"\"\n",
        "        Performs a forward pass of the model.\n",
        "\n",
        "        Args:\n",
        "            x (torch.Tensor): The input tensor.\n",
        "\n",
        "        Returns:\n",
        "            torch.Tensor: The output tensor.\n",
        "        \"\"\"\n",
        "        return self.layer_stack(x)\n"
      ],
      "metadata": {
        "id": "3iwaBW7NmMAg"
      },
      "execution_count": null,
      "outputs": []
    },
    {
      "cell_type": "markdown",
      "source": [
        "\n",
        "**`FashionMNISTModelV1`**, is a simple artificial neural network defined using PyTorch. Here's a summary of the model's architecture and functionalities:\n",
        "\n",
        "**Input Layer**: The model expects a flat input tensor. It is designed for the `FashionMNIST` dataset, which consists of 28x28 grayscale images. The input to the network is a flattened version of these images, i.e., a tensor of shape (batch_size, 784) where 784 is 28x28.\n",
        "\n",
        "**Hidden Layer**: After the input, there is a linear (fully connected) layer with a specified number of hidden units. This layer learns to transform the input into a higher level representation. The number of hidden units can be set when creating an instance of the model. After this layer, there is a ReLU (Rectified Linear Unit) activation function that introduces non-linearity, allowing the model to learn complex patterns.\n",
        "\n",
        "**Output Layer**: Finally, there is another linear layer that transforms the hidden layer's outputs into the final output shape, which is equal to the number of classes in the classification problem. \n",
        "\n",
        "**Forward Pass**: The forward method defines how the model processes the input data and generates the output. It simply passes the input data through the layer stack sequentially as defined.\n",
        "\n",
        "The model's simplicity makes it quick to train, but it might not have enough capacity to learn complex patterns or nuanced features in more complex datasets. Adjustments or additions to the model, such as more layers or different types of layers, could help it better learn from such datasets."
      ],
      "metadata": {
        "id": "IUkOGKF-oo9f"
      }
    },
    {
      "cell_type": "code",
      "source": [
        "# Create an instance of model_1\n",
        "torch.manual_seed(42)\n",
        "model_1 = FashionMNISTModelV1(input_shape=784,\n",
        "                              hidden_units=10,\n",
        "                              output_shape=len(class_names)).to(device)\n",
        "next(model_1.parameters()).device                              "
      ],
      "metadata": {
        "colab": {
          "base_uri": "https://localhost:8080/"
        },
        "id": "VgJjOcGEujry",
        "outputId": "fca5479b-c4af-46ec-a4c1-88142421eeb3"
      },
      "execution_count": null,
      "outputs": [
        {
          "output_type": "execute_result",
          "data": {
            "text/plain": [
              "device(type='cuda', index=0)"
            ]
          },
          "metadata": {},
          "execution_count": 202
        }
      ]
    },
    {
      "cell_type": "code",
      "source": [],
      "metadata": {
        "id": "3dpfM2kdu-01"
      },
      "execution_count": null,
      "outputs": []
    },
    {
      "cell_type": "markdown",
      "source": [
        "### **3.6.1 Loss, Optimizer, Evaluation**"
      ],
      "metadata": {
        "id": "RXrwQjVAvOKy"
      }
    },
    {
      "cell_type": "code",
      "source": [
        "from helper_functions import accuracy_fn\n",
        "loss_fn = nn.CrossEntropyLoss()\n",
        "optimizer = torch.optim.SGD(params=model_1.parameters(), \n",
        "                            lr=0.1)"
      ],
      "metadata": {
        "id": "TYQgkSS6vZ69"
      },
      "execution_count": null,
      "outputs": []
    },
    {
      "cell_type": "markdown",
      "source": [
        "### **3.6.2 Fucntionizing Training and Test Loops**\n",
        "\n",
        "> Let's create a function for:\n",
        "* **training loop**: **`train_step()`**\n",
        "* **testing loop**: **`test_step()`**\n",
        "\n",
        "We have written similar training and test loops several times at this point. It is now time to develop functions for these loops, so we don't have to keep writing the same code. **Functionizing** can provide several key benefits:\n",
        "\n",
        "**Code organization and reusability**: By encapsulating the training and test logic in separate functions, you can improve code organization and make it more modular. Functions allow you to break down the code into smaller, manageable units, making it easier to understand, maintain, and reuse. You can call these functions multiple times with different inputs, making your code more flexible.\n",
        "\n",
        "**Readability and clarity**: Functionizing can improve the readability and clarity of your code. By giving meaningful names to the functions, you make your code more self-explanatory, making it easier for others (and yourself) to understand the purpose and flow of the code.\n",
        "\n",
        "**Code reuse and extensibility**: Functions allow you to reuse code in different parts of your program or in different projects. If you have common training or testing procedures, you can define them as functions and reuse them across multiple models or datasets. Additionally, if you need to modify or extend the behavior of your training or testing logic, you can do so by modifying the respective functions, without affecting other parts of the code.\n",
        "\n",
        "**Abstraction and encapsulation**: Functionizing allows you to abstract away the implementation details and focus on the higher-level logic of your program. By encapsulating the specific training or testing steps in functions, you can hide the complexity of the underlying operations, making your code more concise and easier to understand.\n",
        "\n",
        "**Testing and debugging**: When you have separate functions for training and testing, it becomes easier to test and debug your code. By isolating different parts of your code in functions, you can also debug them independently, which can make the debugging process more manageable and efficient.\n",
        "\n",
        "Overall, functionizing promotes code organization, reusability, readability, and maintainability. It helps in isolating and abstracting the core functionality, making your code more modular and easier to work with."
      ],
      "metadata": {
        "id": "ZP3bPi9Hvf-H"
      }
    },
    {
      "cell_type": "markdown",
      "source": [
        "> **Training Loop Fuction:** **`train_step`**"
      ],
      "metadata": {
        "id": "SO26alVl6cx-"
      }
    },
    {
      "cell_type": "code",
      "source": [
        "def train_step(model: torch.nn.Module,\n",
        "               data_loader: torch.utils.data.DataLoader,\n",
        "               loss_fn: torch.nn.Module,\n",
        "               optimizer: torch.optim.Optimizer,\n",
        "               accuracy_fn,\n",
        "               device: torch.device = device):\n",
        "  \"\"\"\n",
        "    Performs a single training step with the model using the provided data_loader.\n",
        "\n",
        "    Args:\n",
        "        model (torch.nn.Module): The model to be trained.\n",
        "        data_loader (torch.utils.data.DataLoader): The data loader containing the training data.\n",
        "        loss_fn (torch.nn.Module): The loss function used to calculate the loss.\n",
        "        optimizer (torch.optim.Optimizer): The optimizer responsible for updating model parameters.\n",
        "        accuracy_fn: The function used to calculate the accuracy.\n",
        "        device (torch.device, optional): The device to run the training on. Defaults to the 'device' variable.\n",
        "\n",
        "    Returns:\n",
        "        None\n",
        "    \"\"\"\n",
        "  train_loss, train_acc = 0, 0\n",
        "  \n",
        "  # Set the model to training mode\n",
        "  model.train()\n",
        "  \n",
        "  # Training Loop\n",
        "  for batch, (X, y) in enumerate(data_loader):\n",
        "    # Move data to the target device\n",
        "    X, y = X.to(device), y.to(device)\n",
        "\n",
        "    # 1 Forward Pass\n",
        "    y_pred = model(X)\n",
        "\n",
        "    # 2 Calculate Loss and Accuracy (per batch)\n",
        "    loss = loss_fn(y_pred, y)\n",
        "    train_loss += loss # accumulate train loss of each batch\n",
        "    train_acc += accuracy_fn(y_true=y,\n",
        "                             y_pred=y_pred.argmax(dim=1))\n",
        "\n",
        "    # 3 Optimizer Zero Grad\n",
        "    optimizer.zero_grad()\n",
        "\n",
        "    # 4. Loss backward\n",
        "    loss.backward()\n",
        "\n",
        "    # 5. Optimizer step\n",
        "    optimizer.step()\n",
        "\n",
        "  # Divide total train loss and acc by length of train dataloader\n",
        "  train_loss /= len(data_loader)\n",
        "  train_acc /= len(data_loader)\n",
        "  print(f\"Train Loss: {train_loss:.5f} | Train acc: {train_acc:.2f}%\")"
      ],
      "metadata": {
        "id": "ywtxEQmYwMMw"
      },
      "execution_count": null,
      "outputs": []
    },
    {
      "cell_type": "markdown",
      "source": [
        "> **Testing Loop Fucntion:** **`test_step`**"
      ],
      "metadata": {
        "id": "BNzY0eiM6l5o"
      }
    },
    {
      "cell_type": "code",
      "source": [
        "def test_step(model: torch.nn.Module,\n",
        "              data_loader: torch.utils.data.DataLoader,\n",
        "              loss_fn: torch.nn.Module,\n",
        "              accuracy_fn,\n",
        "              device: torch.device = device):\n",
        "    \"\"\"\n",
        "    Performs the evaluation of the model on the provided data_loader.\n",
        "\n",
        "    Args:\n",
        "        model (torch.nn.Module): The model to be evaluated.\n",
        "        data_loader (torch.utils.data.DataLoader): The data loader containing the test data.\n",
        "        loss_fn (torch.nn.Module): The loss function used to calculate the loss.\n",
        "        accuracy_fn: The function used to calculate the accuracy.\n",
        "        device (torch.device, optional): The device to run the evaluation on. Defaults to the 'device' variable.\n",
        "\n",
        "    Returns:\n",
        "        None\n",
        "    \"\"\"\n",
        "    test_loss, test_acc = 0, 0\n",
        "\n",
        "    # Set the model to evaluation mode\n",
        "    model.eval()\n",
        "\n",
        "    # Inference Loop\n",
        "    with torch.inference_mode():\n",
        "      for X, y in data_loader:\n",
        "        # Move data to the target device\n",
        "        X, y = X.to(device), y.to(device)\n",
        "\n",
        "        # 1. Forward pass\n",
        "        test_pred = model(X)\n",
        "            \n",
        "        # 2. Calculate Loss and Accuracy\n",
        "        test_loss += loss_fn(test_pred, y)\n",
        "        test_acc += accuracy_fn(y_true=y,\n",
        "                              y_pred=test_pred.argmax(dim=1))\n",
        "      \n",
        "      # Divide the total test loss and acc by the length of the test dataloader\n",
        "      test_loss /= len(data_loader)\n",
        "      test_acc /= len(data_loader)\n",
        "      print(f\"Test loss: {test_loss:.5f} | Test accuracy: {test_acc:.2f}%\\n\")"
      ],
      "metadata": {
        "id": "P5ts14I02giw"
      },
      "execution_count": null,
      "outputs": []
    },
    {
      "cell_type": "markdown",
      "source": [
        "Next, we write an optimization loop to test training time on GPU vs the previous time on CPU."
      ],
      "metadata": {
        "id": "TTaPW0u07BYx"
      }
    },
    {
      "cell_type": "code",
      "source": [
        "torch.manual_seed(42)\n",
        "\n",
        "# Measure time\n",
        "from timeit import default_timer as timer\n",
        "train_time_start_on_gpu = timer()\n",
        "\n",
        "epochs = 3\n",
        "for epoch in tqdm(range(epochs)):\n",
        "    print(f\"Epoch: {epoch}\\n---------\")\n",
        "    train_step(data_loader=train_dataloader, \n",
        "        model=model_1, \n",
        "        loss_fn=loss_fn,\n",
        "        optimizer=optimizer,\n",
        "        accuracy_fn=accuracy_fn\n",
        "    )\n",
        "    test_step(model=model_1,\n",
        "              data_loader=test_dataloader,\n",
        "              loss_fn=loss_fn,\n",
        "              accuracy_fn=accuracy_fn,\n",
        "              device=device)\n",
        "\n",
        "train_time_end_on_gpu = timer()\n",
        "total_train_time_model_1 = print_train_time(start=train_time_start_on_gpu,\n",
        "                                            end=train_time_end_on_gpu,\n",
        "                                            device=device)"
      ],
      "metadata": {
        "colab": {
          "base_uri": "https://localhost:8080/",
          "height": 344,
          "referenced_widgets": [
            "b870e77803244b36a9cfa9b2f2461910",
            "514db3b1f6a5421d96ed3c211a9bbbbe",
            "afd5740cc4f94111b5137c4e95e33452",
            "a87a1bf63b954bfcbd960b522209ff22",
            "0ff9e337f3b34c0cae7b7d581ca09ec2",
            "277d4a06cc7b438e9c12179f0c12163f",
            "a32ec5c6374d4820848f0873656f5b2c",
            "3c160c120cb04131bea598d15e4a9d1b",
            "87f39d2a43854977841a77c3e27403fe",
            "e6c5ed4fb1f1488980252d91d4aaa38a",
            "2ffcc36170a647b3bbe98f24ed2642db"
          ]
        },
        "id": "DLtk__JL7kYq",
        "outputId": "b2d13ca8-9752-4190-bb2e-065212dd237d"
      },
      "execution_count": null,
      "outputs": [
        {
          "output_type": "display_data",
          "data": {
            "text/plain": [
              "  0%|          | 0/3 [00:00<?, ?it/s]"
            ],
            "application/vnd.jupyter.widget-view+json": {
              "version_major": 2,
              "version_minor": 0,
              "model_id": "b870e77803244b36a9cfa9b2f2461910"
            }
          },
          "metadata": {}
        },
        {
          "output_type": "stream",
          "name": "stdout",
          "text": [
            "Epoch: 0\n",
            "---------\n",
            "Train Loss: 1.09199 | Train acc: 61.34%\n",
            "Test loss: 0.95636 | Test accuracy: 65.00%\n",
            "\n",
            "Epoch: 1\n",
            "---------\n",
            "Train Loss: 0.78101 | Train acc: 71.93%\n",
            "Test loss: 0.72227 | Test accuracy: 73.91%\n",
            "\n",
            "Epoch: 2\n",
            "---------\n",
            "Train Loss: 0.67027 | Train acc: 75.94%\n",
            "Test loss: 0.68500 | Test accuracy: 75.02%\n",
            "\n",
            "Train time on cuda: 36.108 seconds\n"
          ]
        }
      ]
    },
    {
      "cell_type": "markdown",
      "source": [
        "> **Note:** Sometimes, depending on data/hardware the model trains faster on the CPU than GPU. \n",
        ">\n",
        "> Why?\n",
        ">\n",
        "> 1. It Could be overhead from copying data/model to and from the GPU outweighs the compute benefits of the GPU\n",
        "> 2. The hardware you're using has better compute capability with the CPU. (rarer)\n",
        "\n",
        "[GPU brrrr article](https://horace.io/brrr_intro.html)"
      ],
      "metadata": {
        "id": "9SUr7jTEmWxr"
      }
    },
    {
      "cell_type": "code",
      "source": [
        "model_0_results"
      ],
      "metadata": {
        "colab": {
          "base_uri": "https://localhost:8080/"
        },
        "id": "IisoMsZ09p7R",
        "outputId": "0ebd71e8-265e-4ac2-f74f-93ad8110b0e3"
      },
      "execution_count": null,
      "outputs": [
        {
          "output_type": "execute_result",
          "data": {
            "text/plain": [
              "{'model_name': 'FashionMNISTModelV0',\n",
              " 'model_loss': 0.47663894295692444,\n",
              " 'model_acc': 83.42651757188499}"
            ]
          },
          "metadata": {},
          "execution_count": 207
        }
      ]
    },
    {
      "cell_type": "code",
      "source": [
        "total_train_time_model_0"
      ],
      "metadata": {
        "colab": {
          "base_uri": "https://localhost:8080/"
        },
        "id": "Zk-QQBrr9sSm",
        "outputId": "b1eb263f-67c0-442b-a162-752732591259"
      },
      "execution_count": null,
      "outputs": [
        {
          "output_type": "execute_result",
          "data": {
            "text/plain": [
              "39.646692247999454"
            ]
          },
          "metadata": {},
          "execution_count": 208
        }
      ]
    },
    {
      "cell_type": "markdown",
      "source": [
        "We need to alter the eval_model to make it device agnostic. Ohterwise we will get a device mismatch runtime error. So, we copy the previous eval_model function and make a small change. "
      ],
      "metadata": {
        "id": "6POFZfG19x2d"
      }
    },
    {
      "cell_type": "markdown",
      "source": [
        "> **Revised Model Evaluation Function:** **`eval_model()`**\n",
        "\n",
        "To make the function device agnostic"
      ],
      "metadata": {
        "id": "It6UjJ9vwNn0"
      }
    },
    {
      "cell_type": "code",
      "source": [
        "torch.manual_seed(42)\n",
        "def eval_model(model: torch.nn.Module,\n",
        "               data_loader: torch.utils.data.DataLoader,\n",
        "               loss_fn: torch.nn.Module, \n",
        "               accuracy_fn,\n",
        "               device: torch.device = device):\n",
        "    \"\"\"\n",
        "    Evaluates the model's performance on a provided dataset.\n",
        "    \n",
        "    This function is device-agnostic and supports evaluation on different hardware (CPU/GPU).\n",
        "\n",
        "    Args:\n",
        "        model (torch.nn.Module): The PyTorch model to be evaluated.\n",
        "        data_loader (torch.utils.data.DataLoader): DataLoader object that loads the dataset to be evaluated.\n",
        "        loss_fn (torch.nn.Module): The loss function used to compute the difference between predicted and true values.\n",
        "        accuracy_fn: Function to compute the accuracy of the model's predictions.\n",
        "        device (torch.device, optional): Device (CPU, GPU, etc.) on which the computations will be performed. \n",
        "            Defaults to the device specified outside of the function if not explicitly provided.\n",
        "\n",
        "    Returns:\n",
        "        dict: A dictionary containing the model's name, average loss, and average accuracy on the evaluated dataset.\n",
        "    \"\"\"\n",
        "    # Initialize loss and accuracy to 0\n",
        "    loss, acc = 0, 0\n",
        "\n",
        "    # Move model to the specified device\n",
        "    model = model.to(device)\n",
        "\n",
        "    # Set the model to evaluation mode\n",
        "    model.eval()\n",
        "\n",
        "    # Enable inference mode for efficiency\n",
        "    with torch.inference_mode():\n",
        "      for X, y in data_loader:\n",
        "        # Move data to the same device as the model\n",
        "        X, y = X.to(device), y.to(device)\n",
        "\n",
        "        # Make predictions using the model\n",
        "        y_pred = model(X)\n",
        "\n",
        "        # Compute and accumulate the loss and accuracy for each batch\n",
        "        loss += loss_fn(y_pred, y)\n",
        "        acc += accuracy_fn(y_true=y, y_pred=y_pred.argmax(dim=1))\n",
        "      \n",
        "      # Calculate the average loss and accuracy per batch\n",
        "      loss /= len(data_loader)\n",
        "      acc /= len(data_loader)\n",
        "\n",
        "    # Return a dictionary containing the model's name, average loss, and average accuracy\n",
        "    return {\"model_name\": model.__class__.__name__,\n",
        "            \"model_loss\": loss.item(),\n",
        "            \"model_acc\": acc}\n",
        "\n"
      ],
      "metadata": {
        "id": "4h3n-eBypVvU"
      },
      "execution_count": null,
      "outputs": []
    },
    {
      "cell_type": "code",
      "source": [
        "# Calculate model 1 results on test dataset\n",
        "model_1_results = eval_model(model=model_1,\n",
        "                             data_loader=test_dataloader,\n",
        "                             loss_fn=loss_fn,\n",
        "                             accuracy_fn=accuracy_fn)\n",
        "\n",
        "model_1_results"
      ],
      "metadata": {
        "colab": {
          "base_uri": "https://localhost:8080/"
        },
        "id": "0dS5ILoquznc",
        "outputId": "b9da5d76-37d1-42d5-d1fc-393d03ed89db"
      },
      "execution_count": null,
      "outputs": [
        {
          "output_type": "execute_result",
          "data": {
            "text/plain": [
              "{'model_name': 'FashionMNISTModelV1',\n",
              " 'model_loss': 0.6850008964538574,\n",
              " 'model_acc': 75.01996805111821}"
            ]
          },
          "metadata": {},
          "execution_count": 210
        }
      ]
    },
    {
      "cell_type": "markdown",
      "source": [
        "## **3.7 Model 2: Convolutional Neural Network**\n",
        "\n",
        "\n",
        "**Convolutional Neural Networks** (CNNs) are a class of deep learning models that are primarily used for image processing tasks, although they can be used for other types of input as well.\n",
        "\n",
        "CNNs are specifically designed to process data with a grid-like topology. For instance, an image, which can be thought of as a grid of pixels. They make use of the spatial structure of the data, recognizing local patterns within the image, regardless of their position in the image.\n",
        "\n",
        "Here is a basic overview of the architecture and operation of a CNN:\n",
        "\n",
        "1. **Convolutional layers:** These layers apply a set of filters to the input. Each filter is convolved across the width and height of the input volume, computing the dot product between the weights of the filter and the input, and producing a 2-dimensional activation map. Stacking these maps for various filters forms the output volume of the convolutional layer. The filters are learned during the training process, allowing the network to automatically learn to recognize complex patterns.\n",
        "\n",
        "2. **ReLU (Rectified Linear Unit) layers:** ReLU is a simple non-linear activation function, which replaces all negative pixel values in the feature map with zero. It introduces non-linearity to the network without affecting the receptive fields of the convolution layer.\n",
        "\n",
        "3. **Pooling or subsampling layers:** These layers systematically reduce the spatial dimensions (width and height) of the input volume, to decrease the amount of parameters and computation in the network, and hence to also control overfitting. The Pooling Layer operates independently on every depth slice of the input and resizes it spatially.\n",
        "\n",
        "4. **Fully connected layers:** After several convolutional and pooling layers, the final output is flattened into a vector and fed into one or more fully connected layers. The last fully connected layer often has a softmax activation function, used for classification tasks.\n",
        "\n",
        "5. Backpropagation and optimization: The network is trained by optimizing the weights to minimize a loss function using an optimization algorithm like stochastic gradient descent. The gradients are backpropagated through the network using the chain rule of differentiation.\n",
        "\n",
        "One of the main advantages of CNNs is that they are less prone to overfitting due to their ability to generalize well to unseen data, making them ideal for image classification, object detection, and similar tasks in computer vision.\n",
        "\n",
        "**References:**<br>\n",
        "[**CNN Explainer**](https://poloclub.github.io/cnn-explainer/)<br>\n",
        "[**CNN GitHub**](https://github.com/poloclub/cnn-explainer)<br>\n",
        "[**IBM CNN Article**](https://www.ibm.com/topics/convolutional-neural-networks)<br>\n",
        "[**`nn.Conv2d()`**](https://pytorch.org/docs/stable/generated/torch.nn.Conv2d.html)<br>\n",
        "[**`nn.MaxPool2d()`**](https://pytorch.org/docs/stable/generated/torch.nn.MaxPool2d.html)<br>\n",
        "\n"
      ],
      "metadata": {
        "id": "tB16dGk-wrTP"
      }
    },
    {
      "cell_type": "markdown",
      "source": [
        "> **Convolutional Neural Network Model:** **`FashionMNISTModelV2`**"
      ],
      "metadata": {
        "id": "9piL8Z9bL8am"
      }
    },
    {
      "cell_type": "code",
      "source": [
        "class FashionMNISTModelV2(nn.Module):\n",
        "  \"\"\"A convolutional neural network model designed for the FashionMNIST dataset.\n",
        "\n",
        "  The model consists of two convolutional blocks, each with two Conv2d layers\n",
        "  followed by a ReLU activation function and a MaxPool2d layer for downsampling.\n",
        "  The convolutional blocks are followed by a fully connected layer for classification.\n",
        "\n",
        "  Args:\n",
        "      input_shape (int): The number of input channels (1 for grayscale images, 3 for RGB images).\n",
        "      hidden_units (int): The number of output channels in the Conv2d layers.\n",
        "      output_shape (int): The number of output neurons in the final fully connected layer (equal to the number of classes).\n",
        "  \"\"\"\n",
        "  def __init__(self, input_shape: int, hidden_units: int, output_shape: int):\n",
        "    super().__init__()\n",
        "    # First convolutional block\n",
        "    self.conv_block_1 = nn.Sequential(\n",
        "        # First convolutional layer\n",
        "        nn.Conv2d(in_channels=input_shape,\n",
        "                  out_channels=hidden_units,\n",
        "                  kernel_size=3,\n",
        "                  stride=1,\n",
        "                  padding=1),\n",
        "        # ReLU activation function\n",
        "        nn.ReLU(),\n",
        "        # Second convolutional layer\n",
        "        nn.Conv2d(in_channels=hidden_units,\n",
        "                  out_channels=hidden_units,\n",
        "                  kernel_size=3,\n",
        "                  stride=1,\n",
        "                  padding=1,),\n",
        "        # ReLU activation function\n",
        "        nn.ReLU(),\n",
        "        # Max pooling for downsampling\n",
        "        nn.MaxPool2d(kernel_size=2,\n",
        "                     stride=2)          \n",
        "    )\n",
        "    # Second convolutional block\n",
        "    self.conv_block_2 = nn.Sequential(\n",
        "        # First convolutional layer\n",
        "        nn.Conv2d(in_channels=hidden_units,\n",
        "                  out_channels=hidden_units,\n",
        "                  kernel_size=3,\n",
        "                  stride=1,\n",
        "                  padding=1),\n",
        "        # ReLU activation function\n",
        "        nn.ReLU(),\n",
        "        # Second convolutional layer\n",
        "        nn.Conv2d(in_channels=hidden_units,\n",
        "                  out_channels=hidden_units,\n",
        "                  kernel_size=3,\n",
        "                  stride=1,\n",
        "                  padding=1),\n",
        "        # ReLU activation function\n",
        "        nn.ReLU(),\n",
        "        # Max pooling for downsampling\n",
        "        nn.MaxPool2d(kernel_size=2)                    \n",
        "    )\n",
        "    # Classifier - fully connected layer\n",
        "    self.classifier = nn.Sequential(\n",
        "        # Flatten the tensor for the fully connected layer\n",
        "        nn.Flatten(),\n",
        "        # Fully connected layer\n",
        "        nn.Linear(in_features=hidden_units*7*7,\n",
        "                  out_features=output_shape)\n",
        "    )\n",
        "\n",
        "  def forward(self, x):\n",
        "    \"\"\"The forward pass of the model.\n",
        "\n",
        "    Args:\n",
        "        x (torch.Tensor): The input tensor.\n",
        "\n",
        "    Returns:\n",
        "        The output of the model.\n",
        "    \"\"\"\n",
        "    # Pass input through first convolutional block\n",
        "    x = self.conv_block_1(x)\n",
        "    # print(f\"Output Shape of conv_block_1: {x.shape}\")\n",
        "    # Pass input through second convolutional block\n",
        "    x = self.conv_block_2(x)\n",
        "    # print(f\"Output Shape of conv_block_2: {x.shape}\")\n",
        "    # Pass input through fully connected layer\n",
        "    x = self.classifier(x)\n",
        "    # print(f\"Output Shape of classifier: {x.shape}\")\n",
        "    return(x) "
      ],
      "metadata": {
        "id": "jX2FnxG_9UOx"
      },
      "execution_count": null,
      "outputs": []
    },
    {
      "cell_type": "code",
      "source": [
        "torch.manual_seed(42)\n",
        "model_2 = FashionMNISTModelV2(input_shape=1,\n",
        "                              hidden_units=10,\n",
        "                              output_shape=len(class_names)).to(device)"
      ],
      "metadata": {
        "id": "H-puRj0UN-pK"
      },
      "execution_count": null,
      "outputs": []
    },
    {
      "cell_type": "code",
      "source": [
        "rand_image_tensor = torch.randn(size=(1, 28, 28))\n",
        "rand_image_tensor.shape"
      ],
      "metadata": {
        "colab": {
          "base_uri": "https://localhost:8080/"
        },
        "id": "fU0CpeBBqL0X",
        "outputId": "ca1716cf-8e1f-4b68-f29a-5b9d1c654f92"
      },
      "execution_count": null,
      "outputs": [
        {
          "output_type": "execute_result",
          "data": {
            "text/plain": [
              "torch.Size([1, 28, 28])"
            ]
          },
          "metadata": {},
          "execution_count": 213
        }
      ]
    },
    {
      "cell_type": "code",
      "source": [
        "model_2(rand_image_tensor.unsqueeze(0).to(device))"
      ],
      "metadata": {
        "colab": {
          "base_uri": "https://localhost:8080/"
        },
        "id": "5oedF4KQpo9E",
        "outputId": "2b206dd0-e54e-434e-e7b9-f11805f2117d"
      },
      "execution_count": null,
      "outputs": [
        {
          "output_type": "execute_result",
          "data": {
            "text/plain": [
              "tensor([[ 0.0366, -0.0940,  0.0686, -0.0485,  0.0068,  0.0290,  0.0132,  0.0084,\n",
              "         -0.0030, -0.0185]], device='cuda:0', grad_fn=<AddmmBackward0>)"
            ]
          },
          "metadata": {},
          "execution_count": 214
        }
      ]
    },
    {
      "cell_type": "markdown",
      "source": [
        "This is the biggest model yet! "
      ],
      "metadata": {
        "id": "Kk7f0iU4TdI6"
      }
    },
    {
      "cell_type": "markdown",
      "source": [
        "### **3.7.1 Stepping through `nn.Conv2d()`**\n",
        "\n",
        "**Reference:**<br>\n",
        "[**`nn.Conv2d`**](https://pytorch.org/docs/stable/generated/torch.nn.Conv2d.html)<br>\n"
      ],
      "metadata": {
        "id": "-x2cZd1kTwSc"
      }
    },
    {
      "cell_type": "code",
      "source": [
        "torch.manual_seed(42)\n",
        "\n",
        "# Generate a batch of 32 random images with shape (32, 3, 64, 64)\n",
        "images = torch.randn(size=(32, 3, 64, 64))\n",
        "# Select the first image from the batch\n",
        "test_image = images[0]\n",
        "\n",
        "print(f\"Image Batch Shape: {images.shape}\")\n",
        "print(f\"Single Image Shape: {test_image.shape}\")\n",
        "print(f\"Test Image:\\n {test_image.shape}\")"
      ],
      "metadata": {
        "colab": {
          "base_uri": "https://localhost:8080/"
        },
        "id": "7-xF8oIAOahU",
        "outputId": "1d47d47f-9118-40a0-c35d-eb6e1a943721"
      },
      "execution_count": null,
      "outputs": [
        {
          "output_type": "stream",
          "name": "stdout",
          "text": [
            "Image Batch Shape: torch.Size([32, 3, 64, 64])\n",
            "Single Image Shape: torch.Size([3, 64, 64])\n",
            "Test Image:\n",
            " torch.Size([3, 64, 64])\n"
          ]
        }
      ]
    },
    {
      "cell_type": "code",
      "source": [
        "torch.manual_seed(42)\n",
        "\n",
        "# Create a single Conv2d layer\n",
        "conv_layer = nn.Conv2d(in_channels=3,\n",
        "                       out_channels=10,\n",
        "                       kernel_size=(3, 3),\n",
        "                       stride=1,\n",
        "                       padding=0)\n",
        "\n",
        "# Pass the data through the convolutional layer\n",
        "conv_output = conv_layer(test_image)\n",
        "conv_output.shape"
      ],
      "metadata": {
        "colab": {
          "base_uri": "https://localhost:8080/"
        },
        "id": "4Gwyr6oFVD5n",
        "outputId": "de37450c-f8c4-4d53-f15e-b8cccf0fa4b5"
      },
      "execution_count": null,
      "outputs": [
        {
          "output_type": "execute_result",
          "data": {
            "text/plain": [
              "torch.Size([10, 62, 62])"
            ]
          },
          "metadata": {},
          "execution_count": 216
        }
      ]
    },
    {
      "cell_type": "markdown",
      "source": [
        "### **3.7.2 Stepping through `nn.MaxPool2d()`**\n",
        "\n",
        "**Reference:**<br>\n",
        "[**`nn.MaxPool2d`**](https://pytorch.org/docs/stable/generated/torch.nn.MaxPool2d.html)<br>"
      ],
      "metadata": {
        "id": "qaht6e0qYmLQ"
      }
    },
    {
      "cell_type": "code",
      "source": [
        "test_image.shape"
      ],
      "metadata": {
        "colab": {
          "base_uri": "https://localhost:8080/"
        },
        "id": "VDBzOLMDZBXa",
        "outputId": "2d4813f3-d7ec-4c68-80c6-8af84081df69"
      },
      "execution_count": null,
      "outputs": [
        {
          "output_type": "execute_result",
          "data": {
            "text/plain": [
              "torch.Size([3, 64, 64])"
            ]
          },
          "metadata": {},
          "execution_count": 217
        }
      ]
    },
    {
      "cell_type": "code",
      "source": [
        "# Print out original image shape without and with unsqueezed dimension\n",
        "print(f\"Test image original shape: {test_image.shape}\")\n",
        "print(f\"Test image with unsqueezed dimension: {test_image.unsqueeze(dim=0).shape}\")\n",
        "\n",
        "# Create a sample nn.MaxPoo2d() layer\n",
        "max_pool_layer = nn.MaxPool2d(kernel_size=2)\n",
        "\n",
        "# Pass data through just the conv_layer\n",
        "test_image_through_conv = conv_layer(test_image.unsqueeze(dim=0))\n",
        "print(f\"Shape after going through conv_layer(): {test_image_through_conv.shape}\")\n",
        "\n",
        "# Pass data through the max pool layer\n",
        "test_image_through_conv_and_max_pool = max_pool_layer(test_image_through_conv)\n",
        "print(f\"Shape after going through conv_layer() and max_pool_layer(): {test_image_through_conv_and_max_pool.shape}\")"
      ],
      "metadata": {
        "colab": {
          "base_uri": "https://localhost:8080/"
        },
        "id": "Li6cn7cqZ1A8",
        "outputId": "9f72958f-e3ad-41c7-d02f-20abfc43a692"
      },
      "execution_count": null,
      "outputs": [
        {
          "output_type": "stream",
          "name": "stdout",
          "text": [
            "Test image original shape: torch.Size([3, 64, 64])\n",
            "Test image with unsqueezed dimension: torch.Size([1, 3, 64, 64])\n",
            "Shape after going through conv_layer(): torch.Size([1, 10, 62, 62])\n",
            "Shape after going through conv_layer() and max_pool_layer(): torch.Size([1, 10, 31, 31])\n"
          ]
        }
      ]
    },
    {
      "cell_type": "code",
      "source": [
        "torch.manual_seed(42)\n",
        "# Create a random tensor with a similiar number of dimensions to our images\n",
        "random_tensor = torch.randn(size=(1, 1, 2, 2))\n",
        "print(f\"Random tensor:\\n{random_tensor}\")\n",
        "print(f\"Random tensor shape: {random_tensor.shape}\")\n",
        "\n",
        "# Create a max pool layer\n",
        "max_pool_layer = nn.MaxPool2d(kernel_size=2) # see what happens when you change the kernel_size value \n",
        "\n",
        "# Pass the random tensor through the max pool layer\n",
        "max_pool_tensor = max_pool_layer(random_tensor)\n",
        "print(f\"\\nMax pool tensor:\\n{max_pool_tensor} <- this is the maximum value from random_tensor\")\n",
        "print(f\"Max pool tensor shape: {max_pool_tensor.shape}\")"
      ],
      "metadata": {
        "colab": {
          "base_uri": "https://localhost:8080/"
        },
        "id": "U6yCHESEbCKT",
        "outputId": "824721de-fe01-46b4-baa1-2238424bdd57"
      },
      "execution_count": null,
      "outputs": [
        {
          "output_type": "stream",
          "name": "stdout",
          "text": [
            "Random tensor:\n",
            "tensor([[[[0.3367, 0.1288],\n",
            "          [0.2345, 0.2303]]]])\n",
            "Random tensor shape: torch.Size([1, 1, 2, 2])\n",
            "\n",
            "Max pool tensor:\n",
            "tensor([[[[0.3367]]]]) <- this is the maximum value from random_tensor\n",
            "Max pool tensor shape: torch.Size([1, 1, 1, 1])\n"
          ]
        }
      ]
    },
    {
      "cell_type": "markdown",
      "source": [
        "### **3.7.3  Loss Function and Optimizer `model_2`**"
      ],
      "metadata": {
        "id": "7evV8s0Xd-9w"
      }
    },
    {
      "cell_type": "markdown",
      "source": [
        "> Note: No change here"
      ],
      "metadata": {
        "id": "1aJJTq-qePFh"
      }
    },
    {
      "cell_type": "code",
      "source": [
        "# Setup loss/eval metrics/optimizer\n",
        "from helper_functions import accuracy_fn\n",
        "\n",
        "loss_fn = nn.CrossEntropyLoss()\n",
        "optimizer = torch.optim.SGD(params=model_2.parameters(), \n",
        "                             lr=0.1)"
      ],
      "metadata": {
        "id": "nM0wmpT6eIkx"
      },
      "execution_count": null,
      "outputs": []
    },
    {
      "cell_type": "markdown",
      "source": [
        "### **3.7.4 Training and Testing `model_2`**\n",
        "\n",
        "Now we have functions for training and testing loops!!!"
      ],
      "metadata": {
        "id": "mE6qBUkMeTfa"
      }
    },
    {
      "cell_type": "code",
      "source": [
        "torch.manual_seed(42)\n",
        "torch.cuda.manual_seed(42)\n",
        "\n",
        "# Measure time\n",
        "from timeit import default_timer as timer\n",
        "train_time_start_model_2 = timer()\n",
        "\n",
        "# Train and test model \n",
        "epochs = 3\n",
        "for epoch in tqdm(range(epochs)):\n",
        "    print(f\"Epoch: {epoch}\\n---------\")\n",
        "    train_step(model=model_2, \n",
        "               data_loader=train_dataloader,\n",
        "               loss_fn=loss_fn,\n",
        "               optimizer=optimizer,\n",
        "               accuracy_fn=accuracy_fn,\n",
        "               device=device\n",
        "    )\n",
        "    test_step(model=model_2,\n",
        "              data_loader=test_dataloader,\n",
        "              loss_fn=loss_fn,\n",
        "              accuracy_fn=accuracy_fn,\n",
        "              device=device\n",
        "    )\n",
        "\n",
        "train_time_end_model_2 = timer()\n",
        "total_train_time_model_2 = print_train_time(start=train_time_start_model_2,\n",
        "                                           end=train_time_end_model_2,\n",
        "                                           device=device)"
      ],
      "metadata": {
        "colab": {
          "base_uri": "https://localhost:8080/",
          "height": 344,
          "referenced_widgets": [
            "45661279d07b4b41a7d8207cb4875b87",
            "59c74b9b32544ca48823e63f8e624b16",
            "67c7928e2acb49cf848a9c72c2fc3aca",
            "43163e953bfc4418bced2fca5798657c",
            "f85f3c2eb5634e72b6d44c8238d37b96",
            "ee8fd28603814fffbb9fcbe2b4a3b488",
            "50138f31d6314f6abbfb93b1ca238e59",
            "56ee5caf68a542c8aebfae347d4f6abe",
            "dd31ede630e44d9a84a17e14657050a4",
            "b6cecb0949044f948d2c41cb8fe3167f",
            "ae93f9ef4cad47d29c218c1ee9c2af11"
          ]
        },
        "id": "NG6rCrWneeQ4",
        "outputId": "81732208-f80c-4ddd-99de-6976dcd3ce8e"
      },
      "execution_count": null,
      "outputs": [
        {
          "output_type": "display_data",
          "data": {
            "text/plain": [
              "  0%|          | 0/3 [00:00<?, ?it/s]"
            ],
            "application/vnd.jupyter.widget-view+json": {
              "version_major": 2,
              "version_minor": 0,
              "model_id": "45661279d07b4b41a7d8207cb4875b87"
            }
          },
          "metadata": {}
        },
        {
          "output_type": "stream",
          "name": "stdout",
          "text": [
            "Epoch: 0\n",
            "---------\n",
            "Train Loss: 0.59317 | Train acc: 78.43%\n",
            "Test loss: 0.39998 | Test accuracy: 85.65%\n",
            "\n",
            "Epoch: 1\n",
            "---------\n",
            "Train Loss: 0.36148 | Train acc: 86.92%\n",
            "Test loss: 0.35131 | Test accuracy: 87.13%\n",
            "\n",
            "Epoch: 2\n",
            "---------\n",
            "Train Loss: 0.32334 | Train acc: 88.25%\n",
            "Test loss: 0.31621 | Test accuracy: 88.38%\n",
            "\n",
            "Train time on cuda: 41.484 seconds\n"
          ]
        }
      ]
    },
    {
      "cell_type": "code",
      "source": [
        "# Get model_2 results \n",
        "model_2_results = eval_model(\n",
        "    model=model_2,\n",
        "    data_loader=test_dataloader,\n",
        "    loss_fn=loss_fn,\n",
        "    accuracy_fn=accuracy_fn\n",
        ")\n",
        "model_2_results"
      ],
      "metadata": {
        "id": "0ZaIjApqe0At",
        "colab": {
          "base_uri": "https://localhost:8080/"
        },
        "outputId": "ff5295e1-b7ea-48cc-ffe8-c072d7e86afd"
      },
      "execution_count": null,
      "outputs": [
        {
          "output_type": "execute_result",
          "data": {
            "text/plain": [
              "{'model_name': 'FashionMNISTModelV2',\n",
              " 'model_loss': 0.31621086597442627,\n",
              " 'model_acc': 88.37859424920129}"
            ]
          },
          "metadata": {},
          "execution_count": 222
        }
      ]
    },
    {
      "cell_type": "markdown",
      "source": [
        "## **3.8 Compare Model Results and Training Time**"
      ],
      "metadata": {
        "id": "wCID-asjylPY"
      }
    },
    {
      "cell_type": "markdown",
      "source": [
        "> Compare Results"
      ],
      "metadata": {
        "id": "ILAmSVi-0CBY"
      }
    },
    {
      "cell_type": "code",
      "source": [
        "import pandas as pd\n",
        "compare_results = pd.DataFrame([model_0_results,\n",
        "                                model_1_results,\n",
        "                                model_2_results])\n",
        "compare_results"
      ],
      "metadata": {
        "colab": {
          "base_uri": "https://localhost:8080/",
          "height": 143
        },
        "id": "D2jFQSquyt2r",
        "outputId": "d24376e7-ffd5-498f-fbc0-baf9ffe43c78"
      },
      "execution_count": null,
      "outputs": [
        {
          "output_type": "execute_result",
          "data": {
            "text/plain": [
              "            model_name  model_loss  model_acc\n",
              "0  FashionMNISTModelV0    0.476639  83.426518\n",
              "1  FashionMNISTModelV1    0.685001  75.019968\n",
              "2  FashionMNISTModelV2    0.316211  88.378594"
            ],
            "text/html": [
              "\n",
              "  <div id=\"df-340bcbc4-50f5-4ca2-8766-2f091b9868e8\">\n",
              "    <div class=\"colab-df-container\">\n",
              "      <div>\n",
              "<style scoped>\n",
              "    .dataframe tbody tr th:only-of-type {\n",
              "        vertical-align: middle;\n",
              "    }\n",
              "\n",
              "    .dataframe tbody tr th {\n",
              "        vertical-align: top;\n",
              "    }\n",
              "\n",
              "    .dataframe thead th {\n",
              "        text-align: right;\n",
              "    }\n",
              "</style>\n",
              "<table border=\"1\" class=\"dataframe\">\n",
              "  <thead>\n",
              "    <tr style=\"text-align: right;\">\n",
              "      <th></th>\n",
              "      <th>model_name</th>\n",
              "      <th>model_loss</th>\n",
              "      <th>model_acc</th>\n",
              "    </tr>\n",
              "  </thead>\n",
              "  <tbody>\n",
              "    <tr>\n",
              "      <th>0</th>\n",
              "      <td>FashionMNISTModelV0</td>\n",
              "      <td>0.476639</td>\n",
              "      <td>83.426518</td>\n",
              "    </tr>\n",
              "    <tr>\n",
              "      <th>1</th>\n",
              "      <td>FashionMNISTModelV1</td>\n",
              "      <td>0.685001</td>\n",
              "      <td>75.019968</td>\n",
              "    </tr>\n",
              "    <tr>\n",
              "      <th>2</th>\n",
              "      <td>FashionMNISTModelV2</td>\n",
              "      <td>0.316211</td>\n",
              "      <td>88.378594</td>\n",
              "    </tr>\n",
              "  </tbody>\n",
              "</table>\n",
              "</div>\n",
              "      <button class=\"colab-df-convert\" onclick=\"convertToInteractive('df-340bcbc4-50f5-4ca2-8766-2f091b9868e8')\"\n",
              "              title=\"Convert this dataframe to an interactive table.\"\n",
              "              style=\"display:none;\">\n",
              "        \n",
              "  <svg xmlns=\"http://www.w3.org/2000/svg\" height=\"24px\"viewBox=\"0 0 24 24\"\n",
              "       width=\"24px\">\n",
              "    <path d=\"M0 0h24v24H0V0z\" fill=\"none\"/>\n",
              "    <path d=\"M18.56 5.44l.94 2.06.94-2.06 2.06-.94-2.06-.94-.94-2.06-.94 2.06-2.06.94zm-11 1L8.5 8.5l.94-2.06 2.06-.94-2.06-.94L8.5 2.5l-.94 2.06-2.06.94zm10 10l.94 2.06.94-2.06 2.06-.94-2.06-.94-.94-2.06-.94 2.06-2.06.94z\"/><path d=\"M17.41 7.96l-1.37-1.37c-.4-.4-.92-.59-1.43-.59-.52 0-1.04.2-1.43.59L10.3 9.45l-7.72 7.72c-.78.78-.78 2.05 0 2.83L4 21.41c.39.39.9.59 1.41.59.51 0 1.02-.2 1.41-.59l7.78-7.78 2.81-2.81c.8-.78.8-2.07 0-2.86zM5.41 20L4 18.59l7.72-7.72 1.47 1.35L5.41 20z\"/>\n",
              "  </svg>\n",
              "      </button>\n",
              "      \n",
              "  <style>\n",
              "    .colab-df-container {\n",
              "      display:flex;\n",
              "      flex-wrap:wrap;\n",
              "      gap: 12px;\n",
              "    }\n",
              "\n",
              "    .colab-df-convert {\n",
              "      background-color: #E8F0FE;\n",
              "      border: none;\n",
              "      border-radius: 50%;\n",
              "      cursor: pointer;\n",
              "      display: none;\n",
              "      fill: #1967D2;\n",
              "      height: 32px;\n",
              "      padding: 0 0 0 0;\n",
              "      width: 32px;\n",
              "    }\n",
              "\n",
              "    .colab-df-convert:hover {\n",
              "      background-color: #E2EBFA;\n",
              "      box-shadow: 0px 1px 2px rgba(60, 64, 67, 0.3), 0px 1px 3px 1px rgba(60, 64, 67, 0.15);\n",
              "      fill: #174EA6;\n",
              "    }\n",
              "\n",
              "    [theme=dark] .colab-df-convert {\n",
              "      background-color: #3B4455;\n",
              "      fill: #D2E3FC;\n",
              "    }\n",
              "\n",
              "    [theme=dark] .colab-df-convert:hover {\n",
              "      background-color: #434B5C;\n",
              "      box-shadow: 0px 1px 3px 1px rgba(0, 0, 0, 0.15);\n",
              "      filter: drop-shadow(0px 1px 2px rgba(0, 0, 0, 0.3));\n",
              "      fill: #FFFFFF;\n",
              "    }\n",
              "  </style>\n",
              "\n",
              "      <script>\n",
              "        const buttonEl =\n",
              "          document.querySelector('#df-340bcbc4-50f5-4ca2-8766-2f091b9868e8 button.colab-df-convert');\n",
              "        buttonEl.style.display =\n",
              "          google.colab.kernel.accessAllowed ? 'block' : 'none';\n",
              "\n",
              "        async function convertToInteractive(key) {\n",
              "          const element = document.querySelector('#df-340bcbc4-50f5-4ca2-8766-2f091b9868e8');\n",
              "          const dataTable =\n",
              "            await google.colab.kernel.invokeFunction('convertToInteractive',\n",
              "                                                     [key], {});\n",
              "          if (!dataTable) return;\n",
              "\n",
              "          const docLinkHtml = 'Like what you see? Visit the ' +\n",
              "            '<a target=\"_blank\" href=https://colab.research.google.com/notebooks/data_table.ipynb>data table notebook</a>'\n",
              "            + ' to learn more about interactive tables.';\n",
              "          element.innerHTML = '';\n",
              "          dataTable['output_type'] = 'display_data';\n",
              "          await google.colab.output.renderOutput(dataTable, element);\n",
              "          const docLink = document.createElement('div');\n",
              "          docLink.innerHTML = docLinkHtml;\n",
              "          element.appendChild(docLink);\n",
              "        }\n",
              "      </script>\n",
              "    </div>\n",
              "  </div>\n",
              "  "
            ]
          },
          "metadata": {},
          "execution_count": 224
        }
      ]
    },
    {
      "cell_type": "markdown",
      "source": [
        "> Compare Training Times"
      ],
      "metadata": {
        "id": "9g5takrq0BJ4"
      }
    },
    {
      "cell_type": "code",
      "source": [
        "compare_results[\"training_time\"] = [total_train_time_model_0,\n",
        "                                    total_train_time_model_1,\n",
        "                                    total_train_time_model_2]\n",
        "                                    \n",
        "compare_results                                    "
      ],
      "metadata": {
        "colab": {
          "base_uri": "https://localhost:8080/",
          "height": 143
        },
        "id": "ikO5RG4tzBaq",
        "outputId": "3c9d4f80-6bf8-4824-92a9-77b81c59e81c"
      },
      "execution_count": null,
      "outputs": [
        {
          "output_type": "execute_result",
          "data": {
            "text/plain": [
              "            model_name  model_loss  model_acc  training_time\n",
              "0  FashionMNISTModelV0    0.476639  83.426518      39.646692\n",
              "1  FashionMNISTModelV1    0.685001  75.019968      36.107550\n",
              "2  FashionMNISTModelV2    0.316211  88.378594      41.484087"
            ],
            "text/html": [
              "\n",
              "  <div id=\"df-f6592e66-debb-4dde-b0b7-310dfd320947\">\n",
              "    <div class=\"colab-df-container\">\n",
              "      <div>\n",
              "<style scoped>\n",
              "    .dataframe tbody tr th:only-of-type {\n",
              "        vertical-align: middle;\n",
              "    }\n",
              "\n",
              "    .dataframe tbody tr th {\n",
              "        vertical-align: top;\n",
              "    }\n",
              "\n",
              "    .dataframe thead th {\n",
              "        text-align: right;\n",
              "    }\n",
              "</style>\n",
              "<table border=\"1\" class=\"dataframe\">\n",
              "  <thead>\n",
              "    <tr style=\"text-align: right;\">\n",
              "      <th></th>\n",
              "      <th>model_name</th>\n",
              "      <th>model_loss</th>\n",
              "      <th>model_acc</th>\n",
              "      <th>training_time</th>\n",
              "    </tr>\n",
              "  </thead>\n",
              "  <tbody>\n",
              "    <tr>\n",
              "      <th>0</th>\n",
              "      <td>FashionMNISTModelV0</td>\n",
              "      <td>0.476639</td>\n",
              "      <td>83.426518</td>\n",
              "      <td>39.646692</td>\n",
              "    </tr>\n",
              "    <tr>\n",
              "      <th>1</th>\n",
              "      <td>FashionMNISTModelV1</td>\n",
              "      <td>0.685001</td>\n",
              "      <td>75.019968</td>\n",
              "      <td>36.107550</td>\n",
              "    </tr>\n",
              "    <tr>\n",
              "      <th>2</th>\n",
              "      <td>FashionMNISTModelV2</td>\n",
              "      <td>0.316211</td>\n",
              "      <td>88.378594</td>\n",
              "      <td>41.484087</td>\n",
              "    </tr>\n",
              "  </tbody>\n",
              "</table>\n",
              "</div>\n",
              "      <button class=\"colab-df-convert\" onclick=\"convertToInteractive('df-f6592e66-debb-4dde-b0b7-310dfd320947')\"\n",
              "              title=\"Convert this dataframe to an interactive table.\"\n",
              "              style=\"display:none;\">\n",
              "        \n",
              "  <svg xmlns=\"http://www.w3.org/2000/svg\" height=\"24px\"viewBox=\"0 0 24 24\"\n",
              "       width=\"24px\">\n",
              "    <path d=\"M0 0h24v24H0V0z\" fill=\"none\"/>\n",
              "    <path d=\"M18.56 5.44l.94 2.06.94-2.06 2.06-.94-2.06-.94-.94-2.06-.94 2.06-2.06.94zm-11 1L8.5 8.5l.94-2.06 2.06-.94-2.06-.94L8.5 2.5l-.94 2.06-2.06.94zm10 10l.94 2.06.94-2.06 2.06-.94-2.06-.94-.94-2.06-.94 2.06-2.06.94z\"/><path d=\"M17.41 7.96l-1.37-1.37c-.4-.4-.92-.59-1.43-.59-.52 0-1.04.2-1.43.59L10.3 9.45l-7.72 7.72c-.78.78-.78 2.05 0 2.83L4 21.41c.39.39.9.59 1.41.59.51 0 1.02-.2 1.41-.59l7.78-7.78 2.81-2.81c.8-.78.8-2.07 0-2.86zM5.41 20L4 18.59l7.72-7.72 1.47 1.35L5.41 20z\"/>\n",
              "  </svg>\n",
              "      </button>\n",
              "      \n",
              "  <style>\n",
              "    .colab-df-container {\n",
              "      display:flex;\n",
              "      flex-wrap:wrap;\n",
              "      gap: 12px;\n",
              "    }\n",
              "\n",
              "    .colab-df-convert {\n",
              "      background-color: #E8F0FE;\n",
              "      border: none;\n",
              "      border-radius: 50%;\n",
              "      cursor: pointer;\n",
              "      display: none;\n",
              "      fill: #1967D2;\n",
              "      height: 32px;\n",
              "      padding: 0 0 0 0;\n",
              "      width: 32px;\n",
              "    }\n",
              "\n",
              "    .colab-df-convert:hover {\n",
              "      background-color: #E2EBFA;\n",
              "      box-shadow: 0px 1px 2px rgba(60, 64, 67, 0.3), 0px 1px 3px 1px rgba(60, 64, 67, 0.15);\n",
              "      fill: #174EA6;\n",
              "    }\n",
              "\n",
              "    [theme=dark] .colab-df-convert {\n",
              "      background-color: #3B4455;\n",
              "      fill: #D2E3FC;\n",
              "    }\n",
              "\n",
              "    [theme=dark] .colab-df-convert:hover {\n",
              "      background-color: #434B5C;\n",
              "      box-shadow: 0px 1px 3px 1px rgba(0, 0, 0, 0.15);\n",
              "      filter: drop-shadow(0px 1px 2px rgba(0, 0, 0, 0.3));\n",
              "      fill: #FFFFFF;\n",
              "    }\n",
              "  </style>\n",
              "\n",
              "      <script>\n",
              "        const buttonEl =\n",
              "          document.querySelector('#df-f6592e66-debb-4dde-b0b7-310dfd320947 button.colab-df-convert');\n",
              "        buttonEl.style.display =\n",
              "          google.colab.kernel.accessAllowed ? 'block' : 'none';\n",
              "\n",
              "        async function convertToInteractive(key) {\n",
              "          const element = document.querySelector('#df-f6592e66-debb-4dde-b0b7-310dfd320947');\n",
              "          const dataTable =\n",
              "            await google.colab.kernel.invokeFunction('convertToInteractive',\n",
              "                                                     [key], {});\n",
              "          if (!dataTable) return;\n",
              "\n",
              "          const docLinkHtml = 'Like what you see? Visit the ' +\n",
              "            '<a target=\"_blank\" href=https://colab.research.google.com/notebooks/data_table.ipynb>data table notebook</a>'\n",
              "            + ' to learn more about interactive tables.';\n",
              "          element.innerHTML = '';\n",
              "          dataTable['output_type'] = 'display_data';\n",
              "          await google.colab.output.renderOutput(dataTable, element);\n",
              "          const docLink = document.createElement('div');\n",
              "          docLink.innerHTML = docLinkHtml;\n",
              "          element.appendChild(docLink);\n",
              "        }\n",
              "      </script>\n",
              "    </div>\n",
              "  </div>\n",
              "  "
            ]
          },
          "metadata": {},
          "execution_count": 226
        }
      ]
    },
    {
      "cell_type": "markdown",
      "source": [
        "> Visualize Model Results"
      ],
      "metadata": {
        "id": "X7C7DTv00KdR"
      }
    },
    {
      "cell_type": "code",
      "source": [
        "compare_results.set_index(\"model_name\")[\"model_acc\"].plot(kind=\"barh\")\n",
        "plt.xlabel(\"accuracy (%)\")\n",
        "plt.ylabel(\"model\");"
      ],
      "metadata": {
        "colab": {
          "base_uri": "https://localhost:8080/",
          "height": 449
        },
        "id": "RSMdiCOxzzM5",
        "outputId": "e93bab00-d846-4a90-f7b6-b0b56f07670e"
      },
      "execution_count": null,
      "outputs": [
        {
          "output_type": "display_data",
          "data": {
            "text/plain": [
              "<Figure size 640x480 with 1 Axes>"
            ],
            "image/png": "[encoded data removed]"
          },
          "metadata": {}
        }
      ]
    },
    {
      "cell_type": "markdown",
      "source": [
        "## **3.9 Random Predictions with Best Model**"
      ],
      "metadata": {
        "id": "8bD978ZT1HSP"
      }
    },
    {
      "cell_type": "markdown",
      "source": [
        "> **Make Predictions Function:**"
      ],
      "metadata": {
        "id": "u7WQ8VkT6-ch"
      }
    },
    {
      "cell_type": "code",
      "source": [
        "def make_predictions(model: torch.nn.Module,\n",
        "                     data: list,\n",
        "                     device: torch.device = device) -> torch.Tensor:\n",
        "    \"\"\"\n",
        "    Generates predictions using the provided model on the given data.\n",
        "\n",
        "    Args:\n",
        "        model (torch.nn.Module): The model used for predictions.\n",
        "        data (list): A list of input data samples.\n",
        "        device (torch.device, optional): The device to run predictions on. Defaults to the 'device' variable.\n",
        "\n",
        "    Returns:\n",
        "        torch.Tensor: The stacked prediction probabilities for each input sample.\n",
        "    \"\"\"\n",
        "    pred_probs = []\n",
        "    model.eval()\n",
        "\n",
        "    # Perform inference in torch.inference_mode()\n",
        "    with torch.inference_mode():\n",
        "        for sample in data:\n",
        "            # Prepare the sample for inference\n",
        "            sample = torch.unsqueeze(sample, dim=0).to(device)\n",
        "\n",
        "            # Get the prediction logits from the model\n",
        "            pred_logit = model(sample)\n",
        "\n",
        "            # Apply softmax to obtain prediction probabilities\n",
        "            pred_prob = torch.softmax(pred_logit.squeeze(), dim=0)\n",
        "\n",
        "            # Append the prediction probabilities to the list\n",
        "            pred_probs.append(pred_prob.cpu())\n",
        "\n",
        "    # Stack the prediction probabilities into a tensor\n",
        "    return torch.stack(pred_probs)"
      ],
      "metadata": {
        "id": "NMm4AlYM1Pgc"
      },
      "execution_count": null,
      "outputs": []
    },
    {
      "cell_type": "markdown",
      "source": [
        "> **Summary:**\n",
        "The code defines a function **`make_predictions`** that takes a model, a list of input data samples, and an optional device. It generates predictions using the provided model on the input data. The function sets the model to evaluation mode, performs inference using **`torch.inference_mode()`**, and iterates through the input data. Each sample is prepared for inference, and the model predicts the logits. Softmax is applied to the logits to obtain prediction probabilities. The prediction probabilities are stored in a list, which is then stacked into a tensor and returned as the output."
      ],
      "metadata": {
        "id": "T0qullKB4jdj"
      }
    },
    {
      "cell_type": "code",
      "source": [
        "img, label = test_data[0][:10]\n",
        "img.shape, label"
      ],
      "metadata": {
        "colab": {
          "base_uri": "https://localhost:8080/"
        },
        "id": "ZgGZ1nCy2g8_",
        "outputId": "9654313e-cb41-4709-b07a-1182fab4ef93"
      },
      "execution_count": null,
      "outputs": [
        {
          "output_type": "execute_result",
          "data": {
            "text/plain": [
              "(torch.Size([1, 28, 28]), 9)"
            ]
          },
          "metadata": {},
          "execution_count": 281
        }
      ]
    },
    {
      "cell_type": "markdown",
      "source": [
        "> **Random Select Test Sample**"
      ],
      "metadata": {
        "id": "WT-7YnHM7Qhr"
      }
    },
    {
      "cell_type": "code",
      "source": [
        "import random\n",
        "\n",
        "# random.seed(42)\n",
        "\n",
        "test_samples = []\n",
        "test_labels = []\n",
        "\n",
        "# Randomly select 9 samples from the test_data\n",
        "for sample, label in random.sample(list(test_data), k=9):\n",
        "    test_samples.append(sample)\n",
        "    test_labels.append(label)\n",
        "\n",
        "# Get the shape of the first test sample\n",
        "test_samples[0].shape"
      ],
      "metadata": {
        "colab": {
          "base_uri": "https://localhost:8080/"
        },
        "id": "ACrwQmrL2KHN",
        "outputId": "4cc77f25-265d-4ff7-8696-31ed0b8e73f9"
      },
      "execution_count": null,
      "outputs": [
        {
          "output_type": "execute_result",
          "data": {
            "text/plain": [
              "torch.Size([1, 28, 28])"
            ]
          },
          "metadata": {},
          "execution_count": 282
        }
      ]
    },
    {
      "cell_type": "markdown",
      "source": [
        "> **Summary**: The code sets the random seed to 42 using **`random.seed(42)`**. It then initializes two empty lists, **`test_samples`** and **`test_labels`**, which will be used to store the randomly selected samples and their corresponding labels. The code then uses **`random.sample()`** to randomly select 9 samples with their labels from the **`test_data`** list. Each sample and its label are appended to the respective lists. Finally, the shape of the first test sample in **`test_samples`** is accessed using **`test_samples[0].shape`**"
      ],
      "metadata": {
        "id": "ox2SGFGA5BCu"
      }
    },
    {
      "cell_type": "markdown",
      "source": [
        "> **Display Test Sample**"
      ],
      "metadata": {
        "id": "stDMSa4c7Uuz"
      }
    },
    {
      "cell_type": "code",
      "source": [
        "# Display the image of the first test sample\n",
        "plt.imshow(test_samples[0].squeeze(), cmap=\"gray\")\n",
        "\n",
        "# Set the title of the plot to the corresponding class name\n",
        "plt.title(class_names[test_labels[0]])"
      ],
      "metadata": {
        "colab": {
          "base_uri": "https://localhost:8080/",
          "height": 470
        },
        "id": "72MqHyVW28zM",
        "outputId": "b68e390e-750a-44e5-a228-32d0751683d7"
      },
      "execution_count": null,
      "outputs": [
        {
          "output_type": "execute_result",
          "data": {
            "text/plain": [
              "Text(0.5, 1.0, 'Ankle boot')"
            ]
          },
          "metadata": {},
          "execution_count": 283
        },
        {
          "output_type": "display_data",
          "data": {
            "text/plain": [
              "<Figure size 640x480 with 1 Axes>"
            ],
            "image/png": "[encoded data removed]"
          },
          "metadata": {}
        }
      ]
    },
    {
      "cell_type": "code",
      "source": [
        "pred_probs = make_predictions(model=model_2,\n",
        "                              data=test_samples)\n",
        "pred_probs[:2]"
      ],
      "metadata": {
        "colab": {
          "base_uri": "https://localhost:8080/"
        },
        "id": "GBC8nPMM3Fzt",
        "outputId": "563a98d4-30b9-4b84-b7fb-462a5289b16e"
      },
      "execution_count": null,
      "outputs": [
        {
          "output_type": "execute_result",
          "data": {
            "text/plain": [
              "tensor([[2.2092e-06, 9.4241e-07, 1.2819e-06, 1.8397e-06, 7.1621e-07, 1.1493e-02,\n",
              "         4.1815e-06, 1.1707e-04, 2.0793e-04, 9.8817e-01],\n",
              "        [1.8789e-05, 2.1344e-05, 7.1552e-04, 1.4263e-06, 9.8827e-01, 3.9398e-07,\n",
              "         1.0866e-02, 1.2759e-07, 1.0216e-04, 2.4410e-06]])"
            ]
          },
          "metadata": {},
          "execution_count": 284
        }
      ]
    },
    {
      "cell_type": "markdown",
      "source": [
        "> **Summary:** The code uses **`matplotlib.pyplot`** to display the image of the first test sample. It uses **`plt.imshow()`** to visualize the image, with **`squeeze()`** used to remove any extra dimensions. The **`cmap`** parameter is set to \"gray\" to display the image in grayscale. The code then sets the title of the plot to the corresponding class name based on **`test_labels[0]`** and the **`class_names`** list."
      ],
      "metadata": {
        "id": "R1vEl_OX5tNS"
      }
    },
    {
      "cell_type": "code",
      "source": [
        "# Turn the prediction probabilities into prediction labels by taking the argmax()\n",
        "pred_classes = pred_probs.argmax(dim=1)\n",
        "pred_classes"
      ],
      "metadata": {
        "colab": {
          "base_uri": "https://localhost:8080/"
        },
        "id": "iPtSjU7D-SfD",
        "outputId": "cbd23fa8-233a-484f-d17d-8e15ecd830f6"
      },
      "execution_count": null,
      "outputs": [
        {
          "output_type": "execute_result",
          "data": {
            "text/plain": [
              "tensor([9, 4, 6, 9, 7, 0, 4, 0, 5])"
            ]
          },
          "metadata": {},
          "execution_count": 285
        }
      ]
    },
    {
      "cell_type": "code",
      "source": [
        "# Are our predictions in the same form as our test labels? \n",
        "test_labels, pred_classes"
      ],
      "metadata": {
        "colab": {
          "base_uri": "https://localhost:8080/"
        },
        "id": "IYgITLNI3nRe",
        "outputId": "4d1f09b9-a448-4977-babb-b56d6790f2af"
      },
      "execution_count": null,
      "outputs": [
        {
          "output_type": "execute_result",
          "data": {
            "text/plain": [
              "([9, 4, 2, 9, 7, 6, 4, 0, 5], tensor([9, 4, 6, 9, 7, 0, 4, 0, 5]))"
            ]
          },
          "metadata": {},
          "execution_count": 286
        }
      ]
    },
    {
      "cell_type": "markdown",
      "source": [
        "> **Plot Predictions**"
      ],
      "metadata": {
        "id": "eRu65nJy7kB8"
      }
    },
    {
      "cell_type": "code",
      "source": [
        "# Create a figure with a grid of subplots\n",
        "plt.figure(figsize=(9, 9))\n",
        "nrows = 3\n",
        "ncols = 3\n",
        "\n",
        "# Iterate over the test samples and their corresponding labels\n",
        "for i, sample in enumerate(test_samples):\n",
        "    plt.subplot(nrows, ncols, i+1)\n",
        "    plt.imshow(sample.squeeze(), cmap=\"gray\")\n",
        "\n",
        "    # Get the predicted and true labels for the current sample\n",
        "    pred_label = class_names[pred_classes[i]]\n",
        "    truth_label = class_names[test_labels[i]]\n",
        "\n",
        "    # Set the title text based on the predicted and true labels\n",
        "    title_text = f\"Pred: {pred_label} | Truth: {truth_label}\"\n",
        "\n",
        "    # Set the color of the title based on the correctness of the prediction\n",
        "    if pred_label == truth_label:\n",
        "        plt.title(title_text, fontsize=10, c=\"g\")\n",
        "    else:\n",
        "        plt.title(title_text, fontsize=10, c=\"r\")\n",
        "    \n",
        "    # Hide axes\n",
        "    plt.axis(False);"
      ],
      "metadata": {
        "colab": {
          "base_uri": "https://localhost:8080/",
          "height": 749
        },
        "id": "1icDLej83sOm",
        "outputId": "4ebed33a-a3c3-4365-e37b-2a6bf2e74754"
      },
      "execution_count": null,
      "outputs": [
        {
          "output_type": "display_data",
          "data": {
            "text/plain": [
              "<Figure size 900x900 with 9 Axes>"
            ],
            "image/png": "[encoded data removed]"
          },
          "metadata": {}
        }
      ]
    },
    {
      "cell_type": "markdown",
      "source": [
        "> **Summary:** The code uses **`matplotlib.pyplot`** to create a figure with a grid of subplots. It iterates over the test samples and their corresponding labels, displaying each sample as an image in a subplot using **`plt.imshow()`**. The predicted label (**`pred_label`**) and true label (**`truth_label`**) for each sample are retrieved from the **`pred_classes`** and **`test_labels`** lists, respectively. The title of each subplot is set based on the predicted and true labels. If the prediction is correct, the title is displayed in green; otherwise, it is displayed in red. The figure displays a grid of 3x3 subplots, representing a total of 9 test samples."
      ],
      "metadata": {
        "id": "uBINa4Ri_aGT"
      }
    },
    {
      "cell_type": "markdown",
      "source": [
        "## **3.10 Confusion Matrix**\n",
        "\n",
        "A **confusion matrix** is a statistical tool used to visualize and understand the performance of a classification model by comparing the model's predictions against actual values. It consists of four values: True Positives (TP), True Negatives (TN), False Positives (FP), and False Negatives (FN), which denote respectively correct positive predictions, correct negative predictions, incorrect positive predictions, and incorrect negative predictions. This matrix forms the basis for various important performance metrics like precision, recall, and F1 score. In multi-class scenarios, the matrix is extended to include all classes, enhancing its ability to reveal misclassifications between specific classes.\n",
        "\n",
        "> **Steps we will take:**\n",
        "1. Make predictions with our trained model on the test dataset\n",
        "2. Make a confusion matrix using: [**`torchmetrics.ConfusionMatrix`**](https://torchmetrics.readthedocs.io/en/stable/classification/confusion_matrix.html)\n",
        "3. Plot the confusion matrix using: [**`mlxtend.plotting.plot_confusion_matrix()`**](https://rasbt.github.io/mlxtend/user_guide/plotting/plot_confusion_matrix/)"
      ],
      "metadata": {
        "id": "_6qeT7E9BAt8"
      }
    },
    {
      "cell_type": "markdown",
      "source": [
        "> **1. Make predictions with our trained model on the test dataset**"
      ],
      "metadata": {
        "id": "tis7nva6GRy7"
      }
    },
    {
      "cell_type": "code",
      "source": [
        "from tqdm.auto import tqdm\n",
        "\n",
        "y_preds = []\n",
        "model_2.eval()\n",
        "\n",
        "# Perform inference using tqdm for progress tracking\n",
        "with torch.inference_mode():\n",
        "    for X, y in tqdm(test_dataloader, desc=\"Making predictions...\"):\n",
        "        X, y = X.to(device), y.to(device)\n",
        "        y_logit = model_2(X)\n",
        "        y_pred = torch.softmax(y_logit.squeeze(), dim=0).argmax(dim=1)\n",
        "        y_preds.append(y_pred.cpu)\n",
        "\n",
        "# Concatenate the prediction tensors into a single tensor\n",
        "y_pred_tensor = torch.cat(y_preds)\n",
        "\n",
        "# Display the first 10 predictions\n",
        "y_pred_tensor[:10]\n"
      ],
      "metadata": {
        "id": "uP_6xZyXDQPh"
      },
      "execution_count": null,
      "outputs": []
    },
    {
      "cell_type": "markdown",
      "source": [
        "> **Summary:**  The code uses **`tqdm.auto`** to track the progress of making predictions on the test dataset. It initializes an empty list **`y_preds`** to store the predicted labels. The model is set to evaluation mode using **`model_2.eval()`**. The code then performs inference using **`torch.inference_mode()`** and iterates through the test data. For each batch of input (**`X`**) and target (**`y`**), the model predicts the logits (**`y_logit`**), applies softmax to obtain prediction probabilities, and selects the class with the highest probability as the predicted label (**`y_pred`**). The predicted labels are stored in the **`y_preds`** list. After all predictions are made, the individual prediction tensors are concatenated into a single tensor using **`torch.cat()`**, resulting in **`y_pred_tensor`**. Finally, the code displays the first 10 predictions using **`y_pred_tensor[:10]`**."
      ],
      "metadata": {
        "id": "t2vzLuV8FXDO"
      }
    },
    {
      "cell_type": "code",
      "source": [
        "import mlxtend"
      ],
      "metadata": {
        "id": "4o4OMXdE83hV"
      },
      "execution_count": null,
      "outputs": []
    },
    {
      "cell_type": "code",
      "source": [
        "mlxtend.__version__\n"
      ],
      "metadata": {
        "colab": {
          "base_uri": "https://localhost:8080/",
          "height": 36
        },
        "id": "NzgbJqD4DKk0",
        "outputId": "3dceaf5d-4cc0-41d9-9e88-8ff0141479f5"
      },
      "execution_count": null,
      "outputs": [
        {
          "output_type": "execute_result",
          "data": {
            "text/plain": [
              "'0.14.0'"
            ],
            "application/vnd.google.colaboratory.intrinsic+json": {
              "type": "string"
            }
          },
          "metadata": {},
          "execution_count": 289
        }
      ]
    }
  ]
}